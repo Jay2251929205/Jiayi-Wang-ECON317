{
 "cells": [
  {
   "cell_type": "code",
   "execution_count": 1,
   "id": "68e5a38a-f2e4-4a0c-9975-37ebd4a6db80",
   "metadata": {},
   "outputs": [],
   "source": [
    "import numpy as np\n",
    "import pandas as pd\n",
    "import matplotlib.pyplot as plt\n",
    "from scipy.stats import norm\n",
    "from statistics import variance"
   ]
  },
  {
   "cell_type": "code",
   "execution_count": null,
   "id": "88037395",
   "metadata": {},
   "outputs": [],
   "source": []
  },
  {
   "cell_type": "markdown",
   "id": "b4999e56",
   "metadata": {},
   "source": [
    "# problem5\n"
   ]
  },
  {
   "cell_type": "code",
   "execution_count": 39,
   "id": "1da16d08-e7e3-4a79-9aa3-86748d098b90",
   "metadata": {},
   "outputs": [
    {
     "name": "stdout",
     "output_type": "stream",
     "text": [
      "[[-0.15611925 -0.4745652   0.30577188 ... -0.36317608 -0.15062406\n",
      "  -0.06471013]\n",
      " [ 0.38082035  0.12417022 -0.45904893 ...  0.37856916  0.28082364\n",
      "  -0.12585857]\n",
      " [-0.08535981  0.46458563  0.26976096 ...  0.41556145  0.1893569\n",
      "  -0.12502644]\n",
      " ...\n",
      " [ 0.03357713  0.02780967  0.35028722 ...  0.42195973  0.4651285\n",
      "   0.04580954]\n",
      " [-0.3622153   0.36982129 -0.33107953 ...  0.15784654  0.22631584\n",
      "   0.04892994]\n",
      " [ 0.18681436  0.09314918 -0.26595468 ... -0.27089112  0.20515214\n",
      "  -0.18582923]]\n"
     ]
    }
   ],
   "source": [
    "r = np.random.rand(500,251)-0.5\n",
    "np.array(r)\n",
    "print(r)"
   ]
  },
  {
   "cell_type": "code",
   "execution_count": 40,
   "id": "435e5128-9247-49d4-a495-c5a638cb9f8e",
   "metadata": {},
   "outputs": [
    {
     "data": {
      "text/plain": [
       "array([[-0.15611925, -0.4745652 ,  0.30577188, ..., -0.36317608,\n",
       "        -0.15062406, -0.06471013],\n",
       "       [ 0.38082035,  0.12417022, -0.45904893, ...,  0.37856916,\n",
       "         0.28082364, -0.12585857],\n",
       "       [-0.08535981,  0.46458563,  0.26976096, ...,  0.41556145,\n",
       "         0.1893569 , -0.12502644],\n",
       "       ...,\n",
       "       [ 0.03357713,  0.02780967,  0.35028722, ...,  0.42195973,\n",
       "         0.4651285 ,  0.04580954],\n",
       "       [-0.3622153 ,  0.36982129, -0.33107953, ...,  0.15784654,\n",
       "         0.22631584,  0.04892994],\n",
       "       [ 0.18681436,  0.09314918, -0.26595468, ..., -0.27089112,\n",
       "         0.20515214, -0.18582923]])"
      ]
     },
     "execution_count": 40,
     "metadata": {},
     "output_type": "execute_result"
    }
   ],
   "source": [
    "np.array(r)"
   ]
  },
  {
   "cell_type": "markdown",
   "id": "475e9e53",
   "metadata": {},
   "source": [
    "## sample covariance matrix "
   ]
  },
  {
   "cell_type": "code",
   "execution_count": 43,
   "id": "7b4e8920",
   "metadata": {},
   "outputs": [
    {
     "name": "stdout",
     "output_type": "stream",
     "text": [
      "[[ 0.08709549 -0.00414637  0.00165724 ...  0.00564544  0.00080863\n",
      "  -0.00167339]\n",
      " [-0.00414637  0.0934477  -0.00287862 ...  0.00111972  0.00048201\n",
      "  -0.00640659]\n",
      " [ 0.00165724 -0.00287862  0.08654813 ...  0.00228995  0.00121959\n",
      "  -0.00109803]\n",
      " ...\n",
      " [ 0.00564544  0.00111972  0.00228995 ...  0.08798458 -0.00587193\n",
      "  -0.00397412]\n",
      " [ 0.00080863  0.00048201  0.00121959 ... -0.00587193  0.08229929\n",
      "  -0.00273374]\n",
      " [-0.00167339 -0.00640659 -0.00109803 ... -0.00397412 -0.00273374\n",
      "   0.08701492]]\n"
     ]
    }
   ],
   "source": [
    "omega=[]\n",
    "for i in range(500):\n",
    "    ri=np.mean(r[i])\n",
    "    omega.append(r[i]-[ri]*251)\n",
    "omega=np.array(omega)\n",
    "omega_hat=omega.dot(np.transpose(omega))/(251-1)\n",
    "print(omega_hat)"
   ]
  },
  {
   "cell_type": "markdown",
   "id": "8a8f8181",
   "metadata": {},
   "source": [
    "## problem7 in midterm"
   ]
  },
  {
   "cell_type": "code",
   "execution_count": 27,
   "id": "a7581393",
   "metadata": {},
   "outputs": [
    {
     "data": {
      "text/html": [
       "<div>\n",
       "<style scoped>\n",
       "    .dataframe tbody tr th:only-of-type {\n",
       "        vertical-align: middle;\n",
       "    }\n",
       "\n",
       "    .dataframe tbody tr th {\n",
       "        vertical-align: top;\n",
       "    }\n",
       "\n",
       "    .dataframe thead th {\n",
       "        text-align: right;\n",
       "    }\n",
       "</style>\n",
       "<table border=\"1\" class=\"dataframe\">\n",
       "  <thead>\n",
       "    <tr style=\"text-align: right;\">\n",
       "      <th></th>\n",
       "      <th>Date</th>\n",
       "      <th>Close</th>\n",
       "      <th>Year</th>\n",
       "    </tr>\n",
       "  </thead>\n",
       "  <tbody>\n",
       "    <tr>\n",
       "      <th>7193</th>\n",
       "      <td>2016-12-23</td>\n",
       "      <td>2263.790039</td>\n",
       "      <td>2016</td>\n",
       "    </tr>\n",
       "    <tr>\n",
       "      <th>7194</th>\n",
       "      <td>2016-12-27</td>\n",
       "      <td>2268.879883</td>\n",
       "      <td>2016</td>\n",
       "    </tr>\n",
       "    <tr>\n",
       "      <th>7195</th>\n",
       "      <td>2016-12-28</td>\n",
       "      <td>2249.919922</td>\n",
       "      <td>2016</td>\n",
       "    </tr>\n",
       "    <tr>\n",
       "      <th>7196</th>\n",
       "      <td>2016-12-29</td>\n",
       "      <td>2249.260010</td>\n",
       "      <td>2016</td>\n",
       "    </tr>\n",
       "    <tr>\n",
       "      <th>7197</th>\n",
       "      <td>2016-12-30</td>\n",
       "      <td>2238.830078</td>\n",
       "      <td>2016</td>\n",
       "    </tr>\n",
       "  </tbody>\n",
       "</table>\n",
       "</div>"
      ],
      "text/plain": [
       "           Date        Close  Year\n",
       "7193 2016-12-23  2263.790039  2016\n",
       "7194 2016-12-27  2268.879883  2016\n",
       "7195 2016-12-28  2249.919922  2016\n",
       "7196 2016-12-29  2249.260010  2016\n",
       "7197 2016-12-30  2238.830078  2016"
      ]
     },
     "execution_count": 27,
     "metadata": {},
     "output_type": "execute_result"
    }
   ],
   "source": [
    "#s&p500 2016 data\n",
    "import pandas as pd\n",
    "from datetime import datetime\n",
    "\n",
    "# Read the CSV file into a pandas DataFrame\n",
    "df = pd.read_csv('https://raw.githubusercontent.com/Jay2251929205/Jiayi-Wang-ECON317/main/data/SPX30years.csv')\n",
    "\n",
    "# Convert the 'Date' column to datetime format\n",
    "df['Date'] = pd.to_datetime(df['Date'])\n",
    "\n",
    "# Create a new column called 'Year' using the dt.year attribute\n",
    "df['Year'] = df['Date'].dt.year\n",
    "\n",
    "# Filter the DataFrame to only include rows where the 'Year' column is equal to 2016\n",
    "df_2016 = df.loc[df['Year'] == 2016]\n",
    "\n",
    "# Save the filtered DataFrame as a new CSV file\n",
    "df_2016.to_csv('SPX30years_2016.csv', index=False)\n",
    "\n",
    "df_2016.tail()\n",
    "\n"
   ]
  },
  {
   "cell_type": "code",
   "execution_count": 28,
   "id": "4d83fa24",
   "metadata": {},
   "outputs": [
    {
     "data": {
      "text/plain": [
       "Date     datetime64[ns]\n",
       "Close           float64\n",
       "Year              int64\n",
       "dtype: object"
      ]
     },
     "execution_count": 28,
     "metadata": {},
     "output_type": "execute_result"
    }
   ],
   "source": [
    "df_2016.dtypes"
   ]
  },
  {
   "cell_type": "code",
   "execution_count": 29,
   "id": "472e824f",
   "metadata": {},
   "outputs": [],
   "source": [
    "Rm=df_2016['Close'].shift(1)-df_2016['Close']\n",
    "Rm=Rm.dropna()\n",
    "Rm=np.array(Rm)"
   ]
  },
  {
   "cell_type": "code",
   "execution_count": 30,
   "id": "e65e2ad8",
   "metadata": {},
   "outputs": [],
   "source": [
    "sigmaRm=np.sqrt(variance(Rm))\n",
    "\n"
   ]
  },
  {
   "cell_type": "code",
   "execution_count": 31,
   "id": "c229822b",
   "metadata": {},
   "outputs": [],
   "source": [
    "def Coefficient(xlist,ylist,funlist):\n",
    "    Y=np.transpose(ylist)\n",
    "    X=[]\n",
    "    for x in xlist:\n",
    "        Xi=[]\n",
    "        for fun in funlist:\n",
    "            Xi.append(fun(x))\n",
    "        X.append(Xi)\n",
    "    X=np.array(X)\n",
    "    Xt=np.transpose(X)\n",
    "    coef=np.linalg.inv(Xt.dot(X)).dot(Xt).dot(Y)\n",
    "    return coef"
   ]
  },
  {
   "cell_type": "code",
   "execution_count": null,
   "id": "8d9bed94",
   "metadata": {},
   "outputs": [],
   "source": []
  },
  {
   "cell_type": "code",
   "execution_count": 36,
   "id": "f95f891a",
   "metadata": {},
   "outputs": [],
   "source": [
    "beta=[]\n",
    "sigma=[]\n",
    "\n",
    "funlist=[lambda x:1, lambda x:x]\n",
    "for i in range(500):\n",
    "    coef=Coefficient(Rm,r[i],funlist)\n",
    "    beta.append(coef[1])\n",
    "    e=[]\n",
    "    for j in range(251):\n",
    "        e.append(r[i][j]-coef[0]-coef[1]*Rm[j])\n",
    "    sigma.append([0]*(i)+[np.var(e)]+[0]*(499-i))\n",
    "beta=np.array(beta)\n",
    "sigma=np.array(sigma)\n",
    "\n",
    "omega=(sigmaRm**2)*beta.dot(np.transpose(beta))+sigma\n",
    "omegainv=np.linalg.inv(omega)\n",
    "ones=np.array([[1]]*500)\n",
    "w=omegainv.dot(ones).dot(np.linalg.inv(np.transpose(ones).dot(omegainv).dot(ones)))"
   ]
  },
  {
   "cell_type": "code",
   "execution_count": 45,
   "id": "b004f646",
   "metadata": {},
   "outputs": [
    {
     "data": {
      "text/plain": [
       "array([[-0.1784268 , -0.49687275,  0.28346433, ..., -0.38548363,\n",
       "        -0.17293162, -0.08701768],\n",
       "       [ 0.38527427,  0.12862415, -0.454595  , ...,  0.38302308,\n",
       "         0.28527756, -0.12140464],\n",
       "       [-0.03934016,  0.51060529,  0.31578061, ...,  0.4615811 ,\n",
       "         0.23537656, -0.07900679],\n",
       "       ...,\n",
       "       [-0.00495009, -0.01071754,  0.31176001, ...,  0.38343251,\n",
       "         0.42660128,  0.00728232],\n",
       "       [-0.3718626 ,  0.360174  , -0.34072683, ...,  0.14819924,\n",
       "         0.21666855,  0.03928265],\n",
       "       [ 0.18689507,  0.0932299 , -0.26587397, ..., -0.27081041,\n",
       "         0.20523285, -0.18574851]])"
      ]
     },
     "execution_count": 45,
     "metadata": {},
     "output_type": "execute_result"
    }
   ],
   "source": [
    "omega\n",
    "\n"
   ]
  },
  {
   "cell_type": "code",
   "execution_count": 44,
   "id": "fa3956d9",
   "metadata": {},
   "outputs": [
    {
     "data": {
      "text/plain": [
       "array([[ 1.45139457e+15,  2.94227755e+16,  3.79824006e+15, ...,\n",
       "         1.30760589e+16,  7.57551118e+15,  3.56960818e+15],\n",
       "       [ 1.61746417e+16, -2.32210375e+16,  2.57150384e+15, ...,\n",
       "        -3.42853840e+16, -3.12533257e+16, -3.39729723e+16],\n",
       "       [ 1.24304163e+16,  3.24296666e+16,  1.64969204e+16, ...,\n",
       "         1.85059235e+16,  8.47940087e+15,  1.83401031e+15],\n",
       "       ...,\n",
       "       [-1.56829251e+15, -2.94468386e+16, -1.08733444e+16, ...,\n",
       "        -1.87390558e+16, -6.48448855e+15, -3.63408179e+15],\n",
       "       [ 9.42887689e+15,  1.10885635e+17,  8.12989084e+15, ...,\n",
       "         7.62178526e+16,  3.08094882e+16,  3.79679590e+16],\n",
       "       [ 6.43759958e+15, -6.58016116e+16, -5.22210541e+15, ...,\n",
       "        -5.31875696e+16, -3.21913891e+16, -2.35486472e+16]])"
      ]
     },
     "execution_count": 44,
     "metadata": {},
     "output_type": "execute_result"
    }
   ],
   "source": [
    "np.linalg.inv(omega_hat)"
   ]
  },
  {
   "cell_type": "markdown",
   "id": "59c9e174",
   "metadata": {},
   "source": [
    "# Problem6"
   ]
  },
  {
   "cell_type": "code",
   "execution_count": 46,
   "id": "9f6e4624",
   "metadata": {},
   "outputs": [],
   "source": [
    "def count_large(n):\n",
    "    p=10\n",
    "    m=500\n",
    "    beta=np.random.uniform(0,1,(n,p))\n",
    "    f=np.random.normal(0,1,(n,p,m))\n",
    "    epsilon=np.random.normal(0,1,(n,m))\n",
    "    fReshape=f[:,0,:].reshape(1,n*m)\n",
    "    for i in range(1,p):\n",
    "        fReshape=np.r_[fReshape,f[:,i,:].reshape(1,n*m)]\n",
    "    E=np.cov(fReshape)\n",
    "    gamma=np.cov(epsilon)\n",
    "    Omega=np.matmul(np.matmul(beta,E),beta.T)+gamma\n",
    "    Eigv=np.linalg.eigvals(Omega)\n",
    "    threshold=np.mean(Eigv)\n",
    "    count=np.count_nonzero(Eigv>=threshold)\n",
    "    return count"
   ]
  },
  {
   "cell_type": "code",
   "execution_count": 47,
   "id": "f14447df",
   "metadata": {},
   "outputs": [],
   "source": [
    "counts=[]\n",
    "for i in range(5,500):\n",
    "    counts.append(count_large(i))"
   ]
  },
  {
   "cell_type": "code",
   "execution_count": 49,
   "id": "432f773f",
   "metadata": {},
   "outputs": [],
   "source": [
    "async def count_large_p(p):\n",
    "    m=500\n",
    "    n=15*p\n",
    "    beta=np.random.uniform(0,1,(n,p))\n",
    "    f=np.random.normal(0,1,(n,p,m))\n",
    "    epsilon=np.random.normal(0,1,(n,m))\n",
    "    fReshape=f[:,0,:].reshape(1,n*m)\n",
    "    for i in range(1,p):\n",
    "        fReshape=np.r_[fReshape,f[:,i,:].reshape(1,n*m)]\n",
    "    E=np.cov(fReshape)\n",
    "    gamma=np.cov(epsilon)\n",
    "    Omega=np.matmul(np.matmul(beta,E),beta.T)+gamma\n",
    "    Eigv=np.linalg.eigvals(Omega)\n",
    "    threshold=np.mean(Eigv)\n",
    "    count=np.count_nonzero(Eigv>=threshold)\n",
    "    print(f\"p={p} is running\")\n",
    "    return count\n",
    "    print(f\"p={p} is done\")"
   ]
  },
  {
   "cell_type": "code",
   "execution_count": 51,
   "id": "4e645bb4",
   "metadata": {},
   "outputs": [
    {
     "data": {
      "text/plain": [
       "<_GatheringFuture pending>"
      ]
     },
     "execution_count": 51,
     "metadata": {},
     "output_type": "execute_result"
    },
    {
     "name": "stdout",
     "output_type": "stream",
     "text": [
      "p=10 is running\n",
      "p=11 is running\n",
      "p=12 is running\n",
      "p=13 is running\n",
      "p=14 is running\n",
      "p=15 is running\n",
      "p=16 is running\n",
      "p=17 is running\n",
      "p=18 is running\n",
      "p=19 is running\n",
      "p=20 is running\n",
      "p=21 is running\n",
      "p=22 is running\n",
      "p=23 is running\n",
      "p=24 is running\n",
      "p=25 is running\n",
      "p=26 is running\n",
      "p=27 is running\n",
      "p=28 is running\n",
      "p=29 is running\n",
      "p=30 is running\n",
      "p=31 is running\n",
      "p=32 is running\n",
      "p=33 is running\n",
      "p=34 is running\n",
      "p=35 is running\n",
      "p=36 is running\n",
      "p=37 is running\n",
      "p=38 is running\n",
      "p=39 is running\n",
      "p=40 is running\n",
      "p=41 is running\n",
      "p=42 is running\n",
      "p=43 is running\n",
      "p=44 is running\n",
      "p=45 is running\n",
      "p=46 is running\n",
      "p=47 is running\n",
      "p=48 is running\n",
      "p=49 is running\n",
      "p=50 is running\n",
      "p=51 is running\n",
      "p=52 is running\n",
      "p=53 is running\n",
      "p=54 is running\n",
      "p=55 is running\n",
      "p=56 is running\n",
      "p=57 is running\n",
      "p=58 is running\n",
      "p=59 is running\n",
      "p=60 is running\n",
      "p=61 is running\n",
      "p=62 is running\n",
      "p=63 is running\n",
      "p=64 is running\n",
      "p=65 is running\n",
      "p=66 is running\n",
      "p=67 is running\n",
      "p=68 is running\n",
      "p=69 is running\n",
      "p=70 is running\n",
      "p=71 is running\n",
      "p=72 is running\n",
      "p=73 is running\n",
      "p=74 is running\n",
      "p=75 is running\n",
      "p=76 is running\n",
      "p=77 is running\n",
      "p=78 is running\n",
      "p=79 is running\n",
      "p=80 is running\n",
      "p=81 is running\n",
      "p=82 is running\n",
      "p=83 is running\n",
      "p=84 is running\n",
      "p=85 is running\n",
      "p=86 is running\n",
      "p=87 is running\n",
      "p=88 is running\n",
      "p=89 is running\n",
      "p=90 is running\n",
      "p=91 is running\n",
      "p=92 is running\n",
      "p=93 is running\n",
      "p=94 is running\n",
      "p=95 is running\n",
      "p=96 is running\n",
      "p=97 is running\n",
      "p=98 is running\n"
     ]
    }
   ],
   "source": [
    "import asyncio\n",
    "count_p=asyncio.gather(*(count_large_p(i) for i in range(10,100)))\n",
    "count_p"
   ]
  },
  {
   "cell_type": "code",
   "execution_count": 52,
   "id": "bb353ea8",
   "metadata": {},
   "outputs": [
    {
     "name": "stdout",
     "output_type": "stream",
     "text": [
      "p=99 is running\n"
     ]
    },
    {
     "data": {
      "text/plain": [
       "[<matplotlib.lines.Line2D at 0x7f83b0502940>]"
      ]
     },
     "execution_count": 52,
     "metadata": {},
     "output_type": "execute_result"
    },
    {
     "data": {
      "image/png": "[encoded data removed]",
      "text/plain": [
       "<Figure size 640x480 with 1 Axes>"
      ]
     },
     "metadata": {},
     "output_type": "display_data"
    }
   ],
   "source": [
    "plt.plot(count_p.result())\n"
   ]
  },
  {
   "cell_type": "code",
   "execution_count": null,
   "id": "4784d62d",
   "metadata": {},
   "outputs": [],
   "source": []
  }
 ],
 "metadata": {
  "kernelspec": {
   "display_name": "Python 3 (ipykernel)",
   "language": "python",
   "name": "python3"
  },
  "language_info": {
   "codemirror_mode": {
    "name": "ipython",
    "version": 3
   },
   "file_extension": ".py",
   "mimetype": "text/x-python",
   "name": "python",
   "nbconvert_exporter": "python",
   "pygments_lexer": "ipython3",
   "version": "3.9.13"
  }
 },
 "nbformat": 4,
 "nbformat_minor": 5
}
