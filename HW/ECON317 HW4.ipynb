{
 "cells": [
  {
   "cell_type": "code",
   "execution_count": 3,
   "id": "68e5a38a-f2e4-4a0c-9975-37ebd4a6db80",
   "metadata": {},
   "outputs": [],
   "source": [
    "import numpy as np\n",
    "import pandas as pd\n",
    "import matplotlib.pyplot as plt\n",
    "from scipy.stats import norm\n",
    "from statistics import variance"
   ]
  },
  {
   "cell_type": "code",
   "execution_count": null,
   "id": "88037395",
   "metadata": {},
   "outputs": [],
   "source": []
  },
  {
   "cell_type": "markdown",
   "id": "b4999e56",
   "metadata": {},
   "source": [
    "# problem5\n"
   ]
  },
  {
   "cell_type": "code",
   "execution_count": 21,
   "id": "1da16d08-e7e3-4a79-9aa3-86748d098b90",
   "metadata": {},
   "outputs": [
    {
     "name": "stdout",
     "output_type": "stream",
     "text": [
      "[[-0.17420666  0.12738579  0.03206122 ... -0.25447514  0.22102936\n",
      "   0.02727957]\n",
      " [-0.49332977  0.20471527  0.48739174 ...  0.44878382 -0.2461322\n",
      "  -0.351378  ]\n",
      " [ 0.08254085 -0.24620477  0.01869821 ... -0.03149499 -0.36680858\n",
      "  -0.28146299]\n",
      " ...\n",
      " [ 0.25364489  0.43312591 -0.26970168 ... -0.17383419  0.03077042\n",
      "   0.44262881]\n",
      " [ 0.04273058 -0.41747789  0.2515218  ... -0.01184614  0.19559517\n",
      "   0.20862327]\n",
      " [-0.17502394  0.22345694 -0.29608765 ...  0.20571849  0.20571182\n",
      "  -0.09960787]]\n"
     ]
    }
   ],
   "source": [
    "r = np.random.rand(500,252)-0.5\n",
    "print(r)"
   ]
  },
  {
   "cell_type": "code",
   "execution_count": 22,
   "id": "435e5128-9247-49d4-a495-c5a638cb9f8e",
   "metadata": {},
   "outputs": [
    {
     "data": {
      "text/plain": [
       "array([[-0.17420666,  0.12738579,  0.03206122, ..., -0.25447514,\n",
       "         0.22102936,  0.02727957],\n",
       "       [-0.49332977,  0.20471527,  0.48739174, ...,  0.44878382,\n",
       "        -0.2461322 , -0.351378  ],\n",
       "       [ 0.08254085, -0.24620477,  0.01869821, ..., -0.03149499,\n",
       "        -0.36680858, -0.28146299],\n",
       "       ...,\n",
       "       [ 0.25364489,  0.43312591, -0.26970168, ..., -0.17383419,\n",
       "         0.03077042,  0.44262881],\n",
       "       [ 0.04273058, -0.41747789,  0.2515218 , ..., -0.01184614,\n",
       "         0.19559517,  0.20862327],\n",
       "       [-0.17502394,  0.22345694, -0.29608765, ...,  0.20571849,\n",
       "         0.20571182, -0.09960787]])"
      ]
     },
     "execution_count": 22,
     "metadata": {},
     "output_type": "execute_result"
    }
   ],
   "source": [
    "np.array(r)"
   ]
  },
  {
   "cell_type": "markdown",
   "id": "ef165993",
   "metadata": {},
   "source": [
    "## sample covariance matrix "
   ]
  },
  {
   "cell_type": "code",
   "execution_count": 24,
   "id": "7b4e8920",
   "metadata": {},
   "outputs": [
    {
     "name": "stdout",
     "output_type": "stream",
     "text": [
      "[[ 0.0813592   0.0060802  -0.00280173 ...  0.00900107  0.00493762\n",
      "   0.00608747]\n",
      " [ 0.0060802   0.09089068  0.00487964 ... -0.00222211  0.00500513\n",
      "   0.00766657]\n",
      " [-0.00280173  0.00487964  0.07581234 ...  0.00814577 -0.00121684\n",
      "   0.00303352]\n",
      " ...\n",
      " [ 0.00900107 -0.00222211  0.00814577 ...  0.08857298  0.00143185\n",
      "  -0.00096059]\n",
      " [ 0.00493762  0.00500513 -0.00121684 ...  0.00143185  0.08696777\n",
      "  -0.00454906]\n",
      " [ 0.00608747  0.00766657  0.00303352 ... -0.00096059 -0.00454906\n",
      "   0.08217995]]\n"
     ]
    }
   ],
   "source": [
    "omega=[]\n",
    "for i in range(500):\n",
    "    ri=np.mean(r[i])\n",
    "    omega.append(r[i]-[ri]*252)\n",
    "omega=np.array(omega)\n",
    "omega_hat=omega.dot(np.transpose(omega))/(252-1)\n",
    "print(omega_hat)"
   ]
  },
  {
   "cell_type": "markdown",
   "id": "7b7e4b71",
   "metadata": {},
   "source": [
    "## problem7 in midterm"
   ]
  },
  {
   "cell_type": "code",
   "execution_count": 25,
   "id": "a7581393",
   "metadata": {},
   "outputs": [
    {
     "data": {
      "text/html": [
       "<div>\n",
       "<style scoped>\n",
       "    .dataframe tbody tr th:only-of-type {\n",
       "        vertical-align: middle;\n",
       "    }\n",
       "\n",
       "    .dataframe tbody tr th {\n",
       "        vertical-align: top;\n",
       "    }\n",
       "\n",
       "    .dataframe thead th {\n",
       "        text-align: right;\n",
       "    }\n",
       "</style>\n",
       "<table border=\"1\" class=\"dataframe\">\n",
       "  <thead>\n",
       "    <tr style=\"text-align: right;\">\n",
       "      <th></th>\n",
       "      <th>Date</th>\n",
       "      <th>Close</th>\n",
       "      <th>Year</th>\n",
       "    </tr>\n",
       "  </thead>\n",
       "  <tbody>\n",
       "    <tr>\n",
       "      <th>7193</th>\n",
       "      <td>2016-12-23</td>\n",
       "      <td>2263.790039</td>\n",
       "      <td>2016</td>\n",
       "    </tr>\n",
       "    <tr>\n",
       "      <th>7194</th>\n",
       "      <td>2016-12-27</td>\n",
       "      <td>2268.879883</td>\n",
       "      <td>2016</td>\n",
       "    </tr>\n",
       "    <tr>\n",
       "      <th>7195</th>\n",
       "      <td>2016-12-28</td>\n",
       "      <td>2249.919922</td>\n",
       "      <td>2016</td>\n",
       "    </tr>\n",
       "    <tr>\n",
       "      <th>7196</th>\n",
       "      <td>2016-12-29</td>\n",
       "      <td>2249.260010</td>\n",
       "      <td>2016</td>\n",
       "    </tr>\n",
       "    <tr>\n",
       "      <th>7197</th>\n",
       "      <td>2016-12-30</td>\n",
       "      <td>2238.830078</td>\n",
       "      <td>2016</td>\n",
       "    </tr>\n",
       "  </tbody>\n",
       "</table>\n",
       "</div>"
      ],
      "text/plain": [
       "           Date        Close  Year\n",
       "7193 2016-12-23  2263.790039  2016\n",
       "7194 2016-12-27  2268.879883  2016\n",
       "7195 2016-12-28  2249.919922  2016\n",
       "7196 2016-12-29  2249.260010  2016\n",
       "7197 2016-12-30  2238.830078  2016"
      ]
     },
     "execution_count": 25,
     "metadata": {},
     "output_type": "execute_result"
    }
   ],
   "source": [
    "#s&p500 2016 data\n",
    "import pandas as pd\n",
    "from datetime import datetime\n",
    "\n",
    "# Read the CSV file into a pandas DataFrame\n",
    "df = pd.read_csv('https://raw.githubusercontent.com/Jay2251929205/Jiayi-Wang-ECON317/main/data/SPX30years.csv')\n",
    "\n",
    "# Convert the 'Date' column to datetime format\n",
    "df['Date'] = pd.to_datetime(df['Date'])\n",
    "\n",
    "# Create a new column called 'Year' using the dt.year attribute\n",
    "df['Year'] = df['Date'].dt.year\n",
    "\n",
    "# Filter the DataFrame to only include rows where the 'Year' column is equal to 2016\n",
    "df_2016 = df.loc[df['Year'] == 2016]\n",
    "\n",
    "# Save the filtered DataFrame as a new CSV file\n",
    "df_2016.to_csv('SPX30years_2016.csv', index=False)\n",
    "\n",
    "df_2016.tail()\n",
    "\n"
   ]
  },
  {
   "cell_type": "code",
   "execution_count": 26,
   "id": "4d83fa24",
   "metadata": {},
   "outputs": [
    {
     "data": {
      "text/plain": [
       "Date     datetime64[ns]\n",
       "Close           float64\n",
       "Year              int64\n",
       "dtype: object"
      ]
     },
     "execution_count": 26,
     "metadata": {},
     "output_type": "execute_result"
    }
   ],
   "source": [
    "df_2016.dtypes"
   ]
  },
  {
   "cell_type": "code",
   "execution_count": 27,
   "id": "472e824f",
   "metadata": {},
   "outputs": [],
   "source": [
    "Rm=df_2016['Close'].shift(1)-df_2016['Close']\n",
    "Rm=Rm.dropna()\n",
    "Rm=np.array(Rm)"
   ]
  },
  {
   "cell_type": "code",
   "execution_count": 30,
   "id": "e65e2ad8",
   "metadata": {},
   "outputs": [],
   "source": [
    "sigmaRm=np.sqrt(variance(Rm))\n",
    "\n"
   ]
  },
  {
   "cell_type": "code",
   "execution_count": null,
   "id": "6685ba9b",
   "metadata": {},
   "outputs": [],
   "source": [
    "beta=[]\n",
    "sigma=[]\n",
    "for i in range(500):\n",
    "    co=coef(r,r[i],funlist)\n",
    "    beta.append(coef[1])\n",
    "    e=[]\n",
    "    for j in range(252):\n",
    "        e.append(r[i][j]-co[0]-co[1]*rm[j])\n",
    "    sigma.append([0*(i)+[np.var(e)]+[0]*(499-i)])\n",
    "beta=np.arrary(beta)\n",
    "sigma=np.arrary(sigma)"
   ]
  }
 ],
 "metadata": {
  "kernelspec": {
   "display_name": "Python 3 (ipykernel)",
   "language": "python",
   "name": "python3"
  },
  "language_info": {
   "codemirror_mode": {
    "name": "ipython",
    "version": 3
   },
   "file_extension": ".py",
   "mimetype": "text/x-python",
   "name": "python",
   "nbconvert_exporter": "python",
   "pygments_lexer": "ipython3",
   "version": "3.9.13"
  }
 },
 "nbformat": 4,
 "nbformat_minor": 5
}
