{
 "cells": [
  {
   "cell_type": "code",
   "execution_count": null,
   "id": "fdfcabd7",
   "metadata": {},
   "outputs": [],
   "source": []
  },
  {
   "cell_type": "code",
   "execution_count": 1,
   "id": "68e5a38a-f2e4-4a0c-9975-37ebd4a6db80",
   "metadata": {},
   "outputs": [],
   "source": [
    "import numpy as np\n",
    "import pandas as pd\n",
    "import matplotlib.pyplot as plt\n",
    "from scipy.stats import norm\n",
    "from statistics import variance\n",
    "import torch\n",
    "import random"
   ]
  },
  {
   "cell_type": "code",
   "execution_count": null,
   "id": "88037395",
   "metadata": {},
   "outputs": [],
   "source": []
  },
  {
   "cell_type": "markdown",
   "id": "b4999e56",
   "metadata": {},
   "source": [
    "# problem5\n"
   ]
  },
  {
   "cell_type": "code",
   "execution_count": 39,
   "id": "1da16d08-e7e3-4a79-9aa3-86748d098b90",
   "metadata": {},
   "outputs": [
    {
     "name": "stdout",
     "output_type": "stream",
     "text": [
      "[[-0.15611925 -0.4745652   0.30577188 ... -0.36317608 -0.15062406\n",
      "  -0.06471013]\n",
      " [ 0.38082035  0.12417022 -0.45904893 ...  0.37856916  0.28082364\n",
      "  -0.12585857]\n",
      " [-0.08535981  0.46458563  0.26976096 ...  0.41556145  0.1893569\n",
      "  -0.12502644]\n",
      " ...\n",
      " [ 0.03357713  0.02780967  0.35028722 ...  0.42195973  0.4651285\n",
      "   0.04580954]\n",
      " [-0.3622153   0.36982129 -0.33107953 ...  0.15784654  0.22631584\n",
      "   0.04892994]\n",
      " [ 0.18681436  0.09314918 -0.26595468 ... -0.27089112  0.20515214\n",
      "  -0.18582923]]\n"
     ]
    }
   ],
   "source": [
    "r = np.random.rand(500,251)-0.5\n",
    "np.array(r)\n",
    "print(r)"
   ]
  },
  {
   "cell_type": "code",
   "execution_count": 40,
   "id": "435e5128-9247-49d4-a495-c5a638cb9f8e",
   "metadata": {},
   "outputs": [
    {
     "data": {
      "text/plain": [
       "array([[-0.15611925, -0.4745652 ,  0.30577188, ..., -0.36317608,\n",
       "        -0.15062406, -0.06471013],\n",
       "       [ 0.38082035,  0.12417022, -0.45904893, ...,  0.37856916,\n",
       "         0.28082364, -0.12585857],\n",
       "       [-0.08535981,  0.46458563,  0.26976096, ...,  0.41556145,\n",
       "         0.1893569 , -0.12502644],\n",
       "       ...,\n",
       "       [ 0.03357713,  0.02780967,  0.35028722, ...,  0.42195973,\n",
       "         0.4651285 ,  0.04580954],\n",
       "       [-0.3622153 ,  0.36982129, -0.33107953, ...,  0.15784654,\n",
       "         0.22631584,  0.04892994],\n",
       "       [ 0.18681436,  0.09314918, -0.26595468, ..., -0.27089112,\n",
       "         0.20515214, -0.18582923]])"
      ]
     },
     "execution_count": 40,
     "metadata": {},
     "output_type": "execute_result"
    }
   ],
   "source": [
    "np.array(r)"
   ]
  },
  {
   "cell_type": "markdown",
   "id": "475e9e53",
   "metadata": {},
   "source": [
    "## sample covariance matrix "
   ]
  },
  {
   "cell_type": "code",
   "execution_count": 43,
   "id": "7b4e8920",
   "metadata": {},
   "outputs": [
    {
     "name": "stdout",
     "output_type": "stream",
     "text": [
      "[[ 0.08709549 -0.00414637  0.00165724 ...  0.00564544  0.00080863\n",
      "  -0.00167339]\n",
      " [-0.00414637  0.0934477  -0.00287862 ...  0.00111972  0.00048201\n",
      "  -0.00640659]\n",
      " [ 0.00165724 -0.00287862  0.08654813 ...  0.00228995  0.00121959\n",
      "  -0.00109803]\n",
      " ...\n",
      " [ 0.00564544  0.00111972  0.00228995 ...  0.08798458 -0.00587193\n",
      "  -0.00397412]\n",
      " [ 0.00080863  0.00048201  0.00121959 ... -0.00587193  0.08229929\n",
      "  -0.00273374]\n",
      " [-0.00167339 -0.00640659 -0.00109803 ... -0.00397412 -0.00273374\n",
      "   0.08701492]]\n"
     ]
    }
   ],
   "source": [
    "omega=[]\n",
    "for i in range(500):\n",
    "    ri=np.mean(r[i])\n",
    "    omega.append(r[i]-[ri]*251)\n",
    "omega=np.array(omega)\n",
    "omega_hat=omega.dot(np.transpose(omega))/(251-1)\n",
    "print(omega_hat)"
   ]
  },
  {
   "cell_type": "markdown",
   "id": "8a8f8181",
   "metadata": {},
   "source": [
    "## problem7 in midterm"
   ]
  },
  {
   "cell_type": "code",
   "execution_count": 27,
   "id": "a7581393",
   "metadata": {},
   "outputs": [
    {
     "data": {
      "text/html": [
       "<div>\n",
       "<style scoped>\n",
       "    .dataframe tbody tr th:only-of-type {\n",
       "        vertical-align: middle;\n",
       "    }\n",
       "\n",
       "    .dataframe tbody tr th {\n",
       "        vertical-align: top;\n",
       "    }\n",
       "\n",
       "    .dataframe thead th {\n",
       "        text-align: right;\n",
       "    }\n",
       "</style>\n",
       "<table border=\"1\" class=\"dataframe\">\n",
       "  <thead>\n",
       "    <tr style=\"text-align: right;\">\n",
       "      <th></th>\n",
       "      <th>Date</th>\n",
       "      <th>Close</th>\n",
       "      <th>Year</th>\n",
       "    </tr>\n",
       "  </thead>\n",
       "  <tbody>\n",
       "    <tr>\n",
       "      <th>7193</th>\n",
       "      <td>2016-12-23</td>\n",
       "      <td>2263.790039</td>\n",
       "      <td>2016</td>\n",
       "    </tr>\n",
       "    <tr>\n",
       "      <th>7194</th>\n",
       "      <td>2016-12-27</td>\n",
       "      <td>2268.879883</td>\n",
       "      <td>2016</td>\n",
       "    </tr>\n",
       "    <tr>\n",
       "      <th>7195</th>\n",
       "      <td>2016-12-28</td>\n",
       "      <td>2249.919922</td>\n",
       "      <td>2016</td>\n",
       "    </tr>\n",
       "    <tr>\n",
       "      <th>7196</th>\n",
       "      <td>2016-12-29</td>\n",
       "      <td>2249.260010</td>\n",
       "      <td>2016</td>\n",
       "    </tr>\n",
       "    <tr>\n",
       "      <th>7197</th>\n",
       "      <td>2016-12-30</td>\n",
       "      <td>2238.830078</td>\n",
       "      <td>2016</td>\n",
       "    </tr>\n",
       "  </tbody>\n",
       "</table>\n",
       "</div>"
      ],
      "text/plain": [
       "           Date        Close  Year\n",
       "7193 2016-12-23  2263.790039  2016\n",
       "7194 2016-12-27  2268.879883  2016\n",
       "7195 2016-12-28  2249.919922  2016\n",
       "7196 2016-12-29  2249.260010  2016\n",
       "7197 2016-12-30  2238.830078  2016"
      ]
     },
     "execution_count": 27,
     "metadata": {},
     "output_type": "execute_result"
    }
   ],
   "source": [
    "#s&p500 2016 data\n",
    "import pandas as pd\n",
    "from datetime import datetime\n",
    "\n",
    "# Read the CSV file into a pandas DataFrame\n",
    "df = pd.read_csv('https://raw.githubusercontent.com/Jay2251929205/Jiayi-Wang-ECON317/main/data/SPX30years.csv')\n",
    "\n",
    "# Convert the 'Date' column to datetime format\n",
    "df['Date'] = pd.to_datetime(df['Date'])\n",
    "\n",
    "# Create a new column called 'Year' using the dt.year attribute\n",
    "df['Year'] = df['Date'].dt.year\n",
    "\n",
    "# Filter the DataFrame to only include rows where the 'Year' column is equal to 2016\n",
    "df_2016 = df.loc[df['Year'] == 2016]\n",
    "\n",
    "# Save the filtered DataFrame as a new CSV file\n",
    "df_2016.to_csv('SPX30years_2016.csv', index=False)\n",
    "\n",
    "df_2016.tail()\n",
    "\n"
   ]
  },
  {
   "cell_type": "code",
   "execution_count": 28,
   "id": "4d83fa24",
   "metadata": {},
   "outputs": [
    {
     "data": {
      "text/plain": [
       "Date     datetime64[ns]\n",
       "Close           float64\n",
       "Year              int64\n",
       "dtype: object"
      ]
     },
     "execution_count": 28,
     "metadata": {},
     "output_type": "execute_result"
    }
   ],
   "source": [
    "df_2016.dtypes"
   ]
  },
  {
   "cell_type": "code",
   "execution_count": 29,
   "id": "472e824f",
   "metadata": {},
   "outputs": [],
   "source": [
    "Rm=df_2016['Close'].shift(1)-df_2016['Close']\n",
    "Rm=Rm.dropna()\n",
    "Rm=np.array(Rm)"
   ]
  },
  {
   "cell_type": "code",
   "execution_count": 30,
   "id": "e65e2ad8",
   "metadata": {},
   "outputs": [],
   "source": [
    "sigmaRm=np.sqrt(variance(Rm))\n",
    "\n"
   ]
  },
  {
   "cell_type": "code",
   "execution_count": 31,
   "id": "c229822b",
   "metadata": {},
   "outputs": [],
   "source": [
    "def Coefficient(xlist,ylist,funlist):\n",
    "    Y=np.transpose(ylist)\n",
    "    X=[]\n",
    "    for x in xlist:\n",
    "        Xi=[]\n",
    "        for fun in funlist:\n",
    "            Xi.append(fun(x))\n",
    "        X.append(Xi)\n",
    "    X=np.array(X)\n",
    "    Xt=np.transpose(X)\n",
    "    coef=np.linalg.inv(Xt.dot(X)).dot(Xt).dot(Y)\n",
    "    return coef"
   ]
  },
  {
   "cell_type": "code",
   "execution_count": null,
   "id": "8d9bed94",
   "metadata": {},
   "outputs": [],
   "source": []
  },
  {
   "cell_type": "code",
   "execution_count": 36,
   "id": "f95f891a",
   "metadata": {},
   "outputs": [],
   "source": [
    "beta=[]\n",
    "sigma=[]\n",
    "\n",
    "funlist=[lambda x:1, lambda x:x]\n",
    "for i in range(500):\n",
    "    coef=Coefficient(Rm,r[i],funlist)\n",
    "    beta.append(coef[1])\n",
    "    e=[]\n",
    "    for j in range(251):\n",
    "        e.append(r[i][j]-coef[0]-coef[1]*Rm[j])\n",
    "    sigma.append([0]*(i)+[np.var(e)]+[0]*(499-i))\n",
    "beta=np.array(beta)\n",
    "sigma=np.array(sigma)\n",
    "\n",
    "omega=(sigmaRm**2)*beta.dot(np.transpose(beta))+sigma\n",
    "omegainv=np.linalg.inv(omega)\n",
    "ones=np.array([[1]]*500)\n",
    "w=omegainv.dot(ones).dot(np.linalg.inv(np.transpose(ones).dot(omegainv).dot(ones)))"
   ]
  },
  {
   "cell_type": "code",
   "execution_count": 45,
   "id": "b004f646",
   "metadata": {},
   "outputs": [
    {
     "data": {
      "text/plain": [
       "array([[-0.1784268 , -0.49687275,  0.28346433, ..., -0.38548363,\n",
       "        -0.17293162, -0.08701768],\n",
       "       [ 0.38527427,  0.12862415, -0.454595  , ...,  0.38302308,\n",
       "         0.28527756, -0.12140464],\n",
       "       [-0.03934016,  0.51060529,  0.31578061, ...,  0.4615811 ,\n",
       "         0.23537656, -0.07900679],\n",
       "       ...,\n",
       "       [-0.00495009, -0.01071754,  0.31176001, ...,  0.38343251,\n",
       "         0.42660128,  0.00728232],\n",
       "       [-0.3718626 ,  0.360174  , -0.34072683, ...,  0.14819924,\n",
       "         0.21666855,  0.03928265],\n",
       "       [ 0.18689507,  0.0932299 , -0.26587397, ..., -0.27081041,\n",
       "         0.20523285, -0.18574851]])"
      ]
     },
     "execution_count": 45,
     "metadata": {},
     "output_type": "execute_result"
    }
   ],
   "source": [
    "omega\n",
    "\n"
   ]
  },
  {
   "cell_type": "code",
   "execution_count": 44,
   "id": "fa3956d9",
   "metadata": {},
   "outputs": [
    {
     "data": {
      "text/plain": [
       "array([[ 1.45139457e+15,  2.94227755e+16,  3.79824006e+15, ...,\n",
       "         1.30760589e+16,  7.57551118e+15,  3.56960818e+15],\n",
       "       [ 1.61746417e+16, -2.32210375e+16,  2.57150384e+15, ...,\n",
       "        -3.42853840e+16, -3.12533257e+16, -3.39729723e+16],\n",
       "       [ 1.24304163e+16,  3.24296666e+16,  1.64969204e+16, ...,\n",
       "         1.85059235e+16,  8.47940087e+15,  1.83401031e+15],\n",
       "       ...,\n",
       "       [-1.56829251e+15, -2.94468386e+16, -1.08733444e+16, ...,\n",
       "        -1.87390558e+16, -6.48448855e+15, -3.63408179e+15],\n",
       "       [ 9.42887689e+15,  1.10885635e+17,  8.12989084e+15, ...,\n",
       "         7.62178526e+16,  3.08094882e+16,  3.79679590e+16],\n",
       "       [ 6.43759958e+15, -6.58016116e+16, -5.22210541e+15, ...,\n",
       "        -5.31875696e+16, -3.21913891e+16, -2.35486472e+16]])"
      ]
     },
     "execution_count": 44,
     "metadata": {},
     "output_type": "execute_result"
    }
   ],
   "source": [
    "np.linalg.inv(omega_hat)"
   ]
  },
  {
   "cell_type": "markdown",
   "id": "59c9e174",
   "metadata": {},
   "source": [
    "# Problem6"
   ]
  },
  {
   "cell_type": "code",
   "execution_count": 8,
   "id": "0e1e8a4f",
   "metadata": {},
   "outputs": [
    {
     "ename": "NameError",
     "evalue": "name 'fReshape' is not defined",
     "output_type": "error",
     "traceback": [
      "\u001b[0;31m---------------------------------------------------------------------------\u001b[0m",
      "\u001b[0;31mNameError\u001b[0m                                 Traceback (most recent call last)",
      "\u001b[0;32m/var/folders/3g/ycs_8fys74dc0dww5tpkz7rh0000gn/T/ipykernel_6441/2457727436.py\u001b[0m in \u001b[0;36m<module>\u001b[0;34m\u001b[0m\n\u001b[1;32m     17\u001b[0m     \u001b[0mcount\u001b[0m\u001b[0;34m=\u001b[0m\u001b[0mnp\u001b[0m\u001b[0;34m.\u001b[0m\u001b[0mcount_nonzero\u001b[0m\u001b[0;34m(\u001b[0m\u001b[0mEigv\u001b[0m\u001b[0;34m>=\u001b[0m\u001b[0mthreshold\u001b[0m\u001b[0;34m)\u001b[0m\u001b[0;34m\u001b[0m\u001b[0;34m\u001b[0m\u001b[0m\n\u001b[1;32m     18\u001b[0m     \u001b[0;32mreturn\u001b[0m \u001b[0mcount\u001b[0m\u001b[0;34m\u001b[0m\u001b[0;34m\u001b[0m\u001b[0m\n\u001b[0;32m---> 19\u001b[0;31m \u001b[0mprint\u001b[0m\u001b[0;34m(\u001b[0m\u001b[0mfReshape\u001b[0m\u001b[0;34m)\u001b[0m\u001b[0;34m\u001b[0m\u001b[0;34m\u001b[0m\u001b[0m\n\u001b[0m",
      "\u001b[0;31mNameError\u001b[0m: name 'fReshape' is not defined"
     ]
    }
   ],
   "source": [
    "np.set_printoptions(threshold=20)\n",
    "random.seed(1)\n",
    "def count_large(n):\n",
    "    p=10\n",
    "    m=500\n",
    "    beta=np.random.uniform(0,1,(n,p))\n",
    "    f=np.random.normal(0,1,(n,p,m))\n",
    "    epsilon=np.random.normal(0,1,(n,m))\n",
    "    fReshape=f[:,0,:].reshape(1,n*m)\n",
    "    for i in range(1,p):\n",
    "        fReshape=np.r_[fReshape,f[:,i,:].reshape(1,n*m)]\n",
    "    E=np.cov(fReshape)\n",
    "    gamma=np.cov(epsilon)\n",
    "    Omega=np.matmul(np.matmul(beta,E),beta.T)+gamma\n",
    "    Eigv=np.linalg.eigvals(Omega)\n",
    "    threshold=np.mean(Eigv)\n",
    "    count=np.count_nonzero(Eigv>=threshold)\n",
    "    return count\n",
    "\n"
   ]
  },
  {
   "cell_type": "code",
   "execution_count": 2,
   "id": "5c138a15",
   "metadata": {},
   "outputs": [
    {
     "name": "stdout",
     "output_type": "stream",
     "text": [
      "[63.8327471   6.10589779  4.52721838  3.45075075  1.94754133  1.30602759\n",
      "  1.04002798  0.88932097  0.35631594  0.21494113]\n",
      "[94.78222618  8.21095534  7.12142801  4.2693307   3.3973955   2.44579139\n",
      "  1.84253003  0.93503063  0.77298493  0.61848492  0.3246015   0.2781308\n",
      "  0.24871265  0.2112647   0.19361617]\n",
      "[127.86859955   9.54335958   6.49187532   5.37602799   4.59804241\n",
      "   3.08305244   2.83188535   1.8664198    1.47140844   0.649681\n",
      "   0.37608493   0.35592974   0.33405082   0.32835314   0.29396281]\n",
      "[143.94176086  12.11873075   7.84264156   6.98050812   4.9454947\n",
      "   4.36371793   2.72599182   1.67169321   1.34554505   0.66206827\n",
      "   0.45521911   0.43448353   0.40563463   0.39404894   0.3792256 ]\n",
      "[154.11804237  14.35519932   9.82823737   8.51528336   6.68356755\n",
      "   4.28466714   4.06635004   2.0729071    1.43079577   1.12508322\n",
      "   0.42847204   0.39990762   0.361372     0.31940459   0.30712766]\n",
      "[221.57221834  17.32522753  12.44132309  10.93005395   7.18919832\n",
      "   6.34157272   5.33313072   4.69280431   2.89565668   1.55193884\n",
      "   0.46290819   0.4585844    0.43807631   0.41469691   0.40344056]\n",
      "[177.56741025  11.64332898  11.18310624   7.22108131   5.78573656\n",
      "   5.01306455   4.20667766   3.34293746   3.19115643   2.26695177\n",
      "   0.47483659   0.46819575   0.4438769    0.44063324   0.41113283]\n",
      "[360.64744806  22.7504957   18.7166602   13.45061618  10.4749402\n",
      "   9.86232789   7.88836649   5.90227021   5.84733921   4.38116802\n",
      "   0.48116353   0.47553873   0.45503593   0.44400177   0.43457541]\n",
      "[327.72182967  24.94915357  16.25189099  12.79175271  12.16281102\n",
      "   8.44479277   6.31240799   5.05899255   4.54804881   2.10336871\n",
      "   0.47859619   0.4628085    0.45231095   0.42826967   0.42115608]\n",
      "[301.07370527  20.3712799   17.91850667  11.68136677  10.46592988\n",
      "   7.34808497   7.21049406   3.63392398   2.95558723   1.9711746\n",
      "   0.45659291   0.44635006   0.44435635   0.43204048   0.42604348]\n",
      "[397.26413906  24.95979876  20.98362558  13.86609375  13.22223086\n",
      "  10.57368951   9.29544881   7.64561702   4.75437294   3.15169532\n",
      "   0.48167198   0.47914145   0.46229779   0.4605825    0.45754019]\n",
      "[343.58376968  21.53176669  19.41992467  17.18823132  13.52068008\n",
      "   8.87722631   8.14085227   7.00019658   5.16875359   2.92441471\n",
      "   0.47276252   0.46630456   0.44935426   0.43447376   0.43257968]\n",
      "[4.50699855e+02 2.45739240e+01 2.03622923e+01 1.61667508e+01\n",
      " 1.38939104e+01 1.17739441e+01 9.74371748e+00 7.97586911e+00\n",
      " 6.38433132e+00 2.78248796e+00 4.82060597e-01 4.60741192e-01\n",
      " 4.50161528e-01 4.47873369e-01 4.45394173e-01]\n",
      "[442.71605     24.38011269  19.71896601  16.42283818  14.1595984\n",
      "  13.23244396  10.23477578   7.0428331    6.01123011   4.99227991\n",
      "   0.46768509   0.46624087   0.46295173   0.4587944    0.45293962]\n",
      "[369.91710269  20.03926748  15.89437393  14.16024291  12.68305442\n",
      "  11.9577753    7.97704959   6.20161148   3.98478621   3.32172829\n",
      "   0.48510813   0.47733526   0.47326485   0.46962335   0.45702878]\n",
      "[5.55906815e+02 3.62311501e+01 3.17410168e+01 2.51383071e+01\n",
      " 2.07822294e+01 1.69247896e+01 1.08176723e+01 5.82336717e+00\n",
      " 5.28162083e+00 2.66940659e+00 4.90627962e-01 4.83062923e-01\n",
      " 4.81893617e-01 4.76472436e-01 4.70456058e-01]\n",
      "[4.98029888e+02 2.64865601e+01 2.47416877e+01 1.82547191e+01\n",
      " 1.51009843e+01 1.43166739e+01 1.14626798e+01 9.73383397e+00\n",
      " 8.20664041e+00 6.52135414e+00 4.77639770e-01 4.69897038e-01\n",
      " 4.64757401e-01 4.44563379e-01 4.30398161e-01]\n",
      "[5.27665419e+02 3.06494977e+01 2.94333046e+01 2.46312511e+01\n",
      " 2.08254152e+01 1.81394045e+01 1.41000069e+01 1.06463866e+01\n",
      " 6.71473209e+00 3.64027144e+00 4.91850105e-01 4.86525051e-01\n",
      " 4.82658175e-01 4.79747044e-01 4.77464381e-01]\n"
     ]
    }
   ],
   "source": [
    "for i in range(10,100,5):\n",
    "    p=10\n",
    "    m=252\n",
    "    beta=[]; sigma=[]\n",
    "    for j in range(i): \n",
    "        beta.append(np.random.uniform(0, 2, p))\n",
    "        e=np.random.normal(size=m)\n",
    "        sigma.append([0]*(j)+[np.var(e)]+[0]*(i-j-1))\n",
    "    beta=np.array(beta)\n",
    "    sigma=np.array(sigma)\n",
    "    gamma=np.diag(np.random.uniform(0.05,0.5,i))\n",
    "    f=[]\n",
    "    for j in range(p):\n",
    "        f.append(np.random.normal(size=m))\n",
    "    E=np.diag(np.random.uniform(0.1, 1, 10))\n",
    "    \n",
    "    omega=beta.dot(E).dot(np.transpose(beta))+gamma\n",
    "    eig=np.array(sorted(np.linalg.eig(omega)[0],reverse=True))\n",
    "    print(eig[:15])"
   ]
  },
  {
   "cell_type": "code",
   "execution_count": 7,
   "id": "6a137333",
   "metadata": {},
   "outputs": [
    {
     "name": "stdout",
     "output_type": "stream",
     "text": [
      "number of eigenvalue of covariance matrix OMEGA that are larger than 1 is 6 when n=10\n",
      "number of eigenvalue of covariance matrix OMEGA that are larger than 1 is 7 when n=15\n",
      "number of eigenvalue of covariance matrix OMEGA that are larger than 1 is 9 when n=20\n",
      "number of eigenvalue of covariance matrix OMEGA that are larger than 1 is 9 when n=25\n",
      "number of eigenvalue of covariance matrix OMEGA that are larger than 1 is 9 when n=30\n",
      "number of eigenvalue of covariance matrix OMEGA that are larger than 1 is 10 when n=35\n",
      "number of eigenvalue of covariance matrix OMEGA that are larger than 1 is 10 when n=40\n",
      "number of eigenvalue of covariance matrix OMEGA that are larger than 1 is 10 when n=45\n",
      "number of eigenvalue of covariance matrix OMEGA that are larger than 1 is 10 when n=50\n",
      "number of eigenvalue of covariance matrix OMEGA that are larger than 1 is 10 when n=55\n",
      "number of eigenvalue of covariance matrix OMEGA that are larger than 1 is 10 when n=60\n",
      "number of eigenvalue of covariance matrix OMEGA that are larger than 1 is 10 when n=65\n",
      "number of eigenvalue of covariance matrix OMEGA that are larger than 1 is 10 when n=70\n",
      "number of eigenvalue of covariance matrix OMEGA that are larger than 1 is 10 when n=75\n",
      "number of eigenvalue of covariance matrix OMEGA that are larger than 1 is 10 when n=80\n",
      "number of eigenvalue of covariance matrix OMEGA that are larger than 1 is 10 when n=85\n",
      "number of eigenvalue of covariance matrix OMEGA that are larger than 1 is 10 when n=90\n",
      "number of eigenvalue of covariance matrix OMEGA that are larger than 1 is 10 when n=95\n"
     ]
    }
   ],
   "source": [
    "\n",
    "for i in range(10,100,5):\n",
    "    p=10\n",
    "    m=252\n",
    "    beta=[]; sigma=[]\n",
    "    for j in range(i): \n",
    "        beta.append(np.random.uniform(0, 2, p))\n",
    "        e=np.random.normal(size=m)\n",
    "        sigma.append([0]*(j)+[np.var(e)]+[0]*(i-j-1))\n",
    "    beta=np.array(beta)\n",
    "    sigma=np.array(sigma)\n",
    "    gamma=np.diag(np.random.uniform(0.05,0.5,i))\n",
    "    f=[]\n",
    "    for j in range(p):\n",
    "        f.append(np.random.normal(size=m))\n",
    "    E=np.diag(np.random.uniform(0.1, 1, 10))\n",
    "    \n",
    "    omega=beta.dot(E).dot(np.transpose(beta))+gamma\n",
    "    eig=sorted(np.linalg.eig(omega)[0],reverse=True)\n",
    "    \n",
    "\n",
    "\n",
    "    for k in range(i):\n",
    "        if eig[k]<1:\n",
    "            index=k\n",
    "            break\n",
    "    print(\"number of eigenvalue of covariance matrix OMEGA that are larger than 1 is \"+str(index)+ \" when n=\"+str(i))\n",
    "\n",
    "\n",
    "        \n",
    "\n"
   ]
  },
  {
   "cell_type": "code",
   "execution_count": null,
   "id": "4784d62d",
   "metadata": {},
   "outputs": [],
   "source": []
  }
 ],
 "metadata": {
  "kernelspec": {
   "display_name": "Python 3 (ipykernel)",
   "language": "python",
   "name": "python3"
  },
  "language_info": {
   "codemirror_mode": {
    "name": "ipython",
    "version": 3
   },
   "file_extension": ".py",
   "mimetype": "text/x-python",
   "name": "python",
   "nbconvert_exporter": "python",
   "pygments_lexer": "ipython3",
   "version": "3.9.13"
  }
 },
 "nbformat": 4,
 "nbformat_minor": 5
}
