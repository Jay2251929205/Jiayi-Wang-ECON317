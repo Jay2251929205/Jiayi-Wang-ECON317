{
  "nbformat": 4,
  "nbformat_minor": 0,
  "metadata": {
    "colab": {
      "provenance": [],
      "authorship_tag": "ABX9TyPhOQ2M9MijvumEHIXr8Mzt",
      "include_colab_link": true
    },
    "kernelspec": {
      "name": "python3",
      "display_name": "Python 3"
    },
    "language_info": {
      "name": "python"
    }
  },
  "cells": [
    {
      "cell_type": "markdown",
      "metadata": {
        "id": "view-in-github",
        "colab_type": "text"
      },
      "source": [
        "<a href=\"https://colab.research.google.com/github/Jay2251929205/Jiayi-Wang-ECON317/blob/main/HW/ECON317_HW2.ipynb\" target=\"_parent\"><img src=\"https://colab.research.google.com/assets/colab-badge.svg\" alt=\"Open In Colab\"/></a>"
      ]
    },
    {
      "cell_type": "code",
      "execution_count": 18,
      "metadata": {
        "id": "B1VYD6mKpqO2"
      },
      "outputs": [],
      "source": [
        "\n",
        "\n",
        "import numpy as np\n",
        "import pandas as pd\n",
        "from scipy.stats import norm\n",
        "import matplotlib.pyplot as plt"
      ]
    },
    {
      "cell_type": "markdown",
      "source": [
        "# Problem2"
      ],
      "metadata": {
        "id": "Ngr9PCX6tvMB"
      }
    },
    {
      "cell_type": "code",
      "source": [
        "def pvalue(n):\n",
        "  tail = n**0.5*(110000-100000)/100000\n",
        "  f = 1-norm.cdf(tail)\n",
        "  return f"
      ],
      "metadata": {
        "id": "_EKwYY5vuI25"
      },
      "execution_count": 19,
      "outputs": []
    },
    {
      "cell_type": "code",
      "source": [
        "df= pd.DataFrame()\n",
        "df['n']=range(1,1000)\n",
        "df['p']=pvalue(df['n'])"
      ],
      "metadata": {
        "id": "u9PiRSzay5vz"
      },
      "execution_count": 20,
      "outputs": []
    },
    {
      "cell_type": "code",
      "source": [
        "plot=()\n",
        "plt.plot(df['n'],df['p'])\n",
        "plt.xlabel('n')\n",
        "plt.ylabel('p value')"
      ],
      "metadata": {
        "colab": {
          "base_uri": "https://localhost:8080/",
          "height": 296
        },
        "id": "tfGVTZVP0yCF",
        "outputId": "1043e48f-98fa-4933-f06b-c0920b05a416"
      },
      "execution_count": 21,
      "outputs": [
        {
          "output_type": "execute_result",
          "data": {
            "text/plain": [
              "Text(0, 0.5, 'p value')"
            ]
          },
          "metadata": {},
          "execution_count": 21
        },
        {
          "output_type": "display_data",
          "data": {
            "text/plain": [
              "<Figure size 432x288 with 1 Axes>"
            ],
            "image/png": "[encoded data removed]"
          },
          "metadata": {
            "needs_background": "light"
          }
        }
      ]
    },
    {
      "cell_type": "markdown",
      "source": [
        "#Problem3\n"
      ],
      "metadata": {
        "id": "7YGh7VHeuCF8"
      }
    },
    {
      "cell_type": "code",
      "source": [
        "def pvalue(mu,n,sigma,c):\n",
        "  tail = n**0.5*(mu-c)/sigma\n",
        "  f = 1-norm.cdf(tail)\n",
        "  return f"
      ],
      "metadata": {
        "id": "TaURF01Sq46W"
      },
      "execution_count": 22,
      "outputs": []
    },
    {
      "cell_type": "code",
      "source": [
        "mu=110000\n",
        "sigma=100000\n",
        "c=116400\n",
        "n=100\n",
        "pvalue(mu,n,sigma,c)"
      ],
      "metadata": {
        "colab": {
          "base_uri": "https://localhost:8080/"
        },
        "id": "zXHh2xoGrg2w",
        "outputId": "4a8ad5e0-ac7a-496b-eaca-8550663d4710"
      },
      "execution_count": 23,
      "outputs": [
        {
          "output_type": "execute_result",
          "data": {
            "text/plain": [
              "0.7389137003071384"
            ]
          },
          "metadata": {},
          "execution_count": 23
        }
      ]
    },
    {
      "cell_type": "code",
      "source": [
        "#Monte Carlo\n",
        "\n",
        "import math\n"
      ],
      "metadata": {
        "id": "SONJ3BoR2Tto"
      },
      "execution_count": 25,
      "outputs": []
    },
    {
      "cell_type": "code",
      "source": [
        "x = 0\n",
        "for i in range(1000000):\n",
        "\n",
        "  if np.mean(np.random.normal(110000, 100000,100))<=116400:\n",
        "    x+=1\n",
        "print(str(x/10000)+'% of the simulation are type II errro')"
      ],
      "metadata": {
        "id": "rBmYkT83RWCH",
        "colab": {
          "base_uri": "https://localhost:8080/"
        },
        "outputId": "688e71f7-d1aa-495b-dc06-59462947db9a"
      },
      "execution_count": 27,
      "outputs": [
        {
          "output_type": "stream",
          "name": "stdout",
          "text": [
            "73.9033% of the simulation are type II errro\n"
          ]
        }
      ]
    },
    {
      "cell_type": "markdown",
      "source": [
        "#Problem4"
      ],
      "metadata": {
        "id": "LFZlMc6ctt7h"
      }
    },
    {
      "cell_type": "code",
      "source": [
        "\n",
        "\n",
        "def pvalue(mu,n,sigma,c):\n",
        "  tail = n**0.5*(mu-c)/sigma\n",
        "  f = 1-norm.cdf(tail)\n",
        "  return f"
      ],
      "metadata": {
        "id": "13cy17lSahGB"
      },
      "execution_count": 31,
      "outputs": []
    },
    {
      "cell_type": "code",
      "source": [
        "s=50000\n",
        "c=100000\n",
        "x_bar=110000\n",
        "mu=115000\n",
        "\n",
        "def e1(n):\n",
        "    return pvalue(x_bar,n,sigma,c)\n",
        "def e2(n):\n",
        "    return pvalue(mu,n,sigma,x_bar)\n",
        "E1=[]\n",
        "E2=[]\n",
        "\n",
        "n=500; r=range(0,n)\n",
        "for i in r:\n",
        "    E1.append(e1(i))\n",
        "    E2.append(e2(i))\n",
        "\n",
        "plt.plot(r,E1)\n",
        "plt.plot(r,E2)\n",
        "plt.show()"
      ],
      "metadata": {
        "id": "STKf4Q3K24f5",
        "colab": {
          "base_uri": "https://localhost:8080/",
          "height": 265
        },
        "outputId": "719537b4-b171-47bb-8f71-8c20b3190cd7"
      },
      "execution_count": 36,
      "outputs": [
        {
          "output_type": "display_data",
          "data": {
            "text/plain": [
              "<Figure size 432x288 with 1 Axes>"
            ],
            "image/png": "[encoded data removed]"
          },
          "metadata": {
            "needs_background": "light"
          }
        }
      ]
    },
    {
      "cell_type": "markdown",
      "source": [
        "#Problem5"
      ],
      "metadata": {
        "id": "d5piCzOW23yN"
      }
    },
    {
      "cell_type": "code",
      "source": [
        "spx = pd.read_csv('https://raw.githubusercontent.com/Jay2251929205/Jiayi-Wang-ECON317/main/data/SPX30years.csv')\n",
        "\n",
        "from statistics import variance"
      ],
      "metadata": {
        "id": "rc27pmQ-t5W5"
      },
      "execution_count": 38,
      "outputs": []
    },
    {
      "cell_type": "code",
      "source": [
        "def data(period):\n",
        "  x=[]\n",
        "  dx=[]\n",
        "  for s in spx.Close:\n",
        "    x.append(math.log(s))\n",
        "    try:\n",
        "      dx.append(x[-1]-x[-period-1])\n",
        "    except:\n",
        "      pass\n",
        "  dx=sorted(dx)\n",
        "  return dx\n",
        "dx=data(1)\n",
        "mu=np.mean(dx)\n",
        "s=np.std(dx)\n",
        "print(mu,s)"
      ],
      "metadata": {
        "colab": {
          "base_uri": "https://localhost:8080/"
        },
        "id": "-n9_UjUAek89",
        "outputId": "6c8174f0-f622-4cbf-b7d9-21316390d712"
      },
      "execution_count": 49,
      "outputs": [
        {
          "output_type": "stream",
          "name": "stdout",
          "text": [
            "0.00031114782365126466 0.011377126527828851\n"
          ]
        }
      ]
    },
    {
      "cell_type": "code",
      "source": [
        "mu=np.mean(data(1))\n",
        "s=np.std(data(1))\n",
        "for i in range(1,5):\n",
        "    dx=data(i)\n",
        "    r=range(1,len(dx))\n",
        "    mui=mu*i\n",
        "    si=s*(i**(1/2))\n",
        "    \n",
        "    nordx=[]\n",
        "    nor=[]\n",
        "    e=0\n",
        "    for j in r:\n",
        "        x1=dx[j]\n",
        "        x2=norm.ppf(j/len(dx),mui,si)\n",
        "        e=max(abs(x1-x2),e)\n",
        "        \n",
        "        nordx.append(x1)\n",
        "        nor.append(x2)\n",
        "\n",
        "    plt.plot(r,nordx)\n",
        "    plt.plot(r,nor)\n",
        "    plt.show()\n",
        "    print(e)"
      ],
      "metadata": {
        "colab": {
          "base_uri": "https://localhost:8080/",
          "height": 1000
        },
        "id": "cUF3ZCwiuzyS",
        "outputId": "1918525d-50d8-4967-eaf4-7b6a2feb5fe6"
      },
      "execution_count": 53,
      "outputs": [
        {
          "output_type": "display_data",
          "data": {
            "text/plain": [
              "<Figure size 432x288 with 1 Axes>"
            ],
            "image/png": "[encoded data removed]"
          },
          "metadata": {
            "needs_background": "light"
          }
        },
        {
          "output_type": "stream",
          "name": "stdout",
          "text": [
            "0.06753537936716411\n"
          ]
        },
        {
          "output_type": "display_data",
          "data": {
            "text/plain": [
              "<Figure size 432x288 with 1 Axes>"
            ],
            "image/png": "[encoded data removed]"
          },
          "metadata": {
            "needs_background": "light"
          }
        },
        {
          "output_type": "stream",
          "name": "stdout",
          "text": [
            "0.07420145771985376\n"
          ]
        },
        {
          "output_type": "display_data",
          "data": {
            "text/plain": [
              "<Figure size 432x288 with 1 Axes>"
            ],
            "image/png": "[encoded data removed]"
          },
          "metadata": {
            "needs_background": "light"
          }
        },
        {
          "output_type": "stream",
          "name": "stdout",
          "text": [
            "0.08849326243281087\n"
          ]
        },
        {
          "output_type": "display_data",
          "data": {
            "text/plain": [
              "<Figure size 432x288 with 1 Axes>"
            ],
            "image/png": "[encoded data removed]"
          },
          "metadata": {
            "needs_background": "light"
          }
        },
        {
          "output_type": "stream",
          "name": "stdout",
          "text": [
            "0.10668738462965537\n"
          ]
        }
      ]
    },
    {
      "cell_type": "markdown",
      "source": [
        "#Problem6"
      ],
      "metadata": {
        "id": "Et4rk4h6iAka"
      }
    },
    {
      "cell_type": "code",
      "source": [
        "from pandas.core.util.numba_ import jit_user_function\n",
        "mu=0.2\n",
        "sigma=0.4\n",
        "bkpoint=0\n",
        "for i in range(1000000):\n",
        "  change = np.random.normal(mu,sigma,10)\n",
        "  ret = 0\n",
        "  for j in change:\n",
        "    ret+=j\n",
        "    if ret<=-0.5:\n",
        "      bkpoint+=1\n",
        "      break\n",
        "print(str(bkpoint/10000)+'% of the simulation bankrupt')"
      ],
      "metadata": {
        "colab": {
          "base_uri": "https://localhost:8080/"
        },
        "id": "RW8-6qYuiDTT",
        "outputId": "e8830ef0-2b18-4578-ea92-7a94475c1113"
      },
      "execution_count": 45,
      "outputs": [
        {
          "output_type": "stream",
          "name": "stdout",
          "text": [
            "15.038% of the simulation bankrupt\n"
          ]
        }
      ]
    },
    {
      "cell_type": "markdown",
      "source": [
        "#Problem7"
      ],
      "metadata": {
        "id": "5TfuPa3si_Ox"
      }
    },
    {
      "cell_type": "code",
      "source": [
        "def f(x):\n",
        "  return 0.124*x**2-0.072*x+0.046\n",
        "upper=np.linspace(9/31,1,66)\n",
        "low=np.linspace(9/31,0,27)\n",
        "\n",
        "sigmaup=[f(i) for i in upper]\n",
        "muup=[0.1*i+0.05*(1-i) for i in upper]\n",
        "\n",
        "sigmalow=[f(i) for i in low]\n",
        "mulow=[0.1*i+0.05*(1-i) for i in low]\n"
      ],
      "metadata": {
        "id": "ND-zyR9djBit"
      },
      "execution_count": 63,
      "outputs": []
    },
    {
      "cell_type": "code",
      "source": [
        "\n",
        "plt.plot(sigmaup,muup)\n",
        "plt.plot(sigmalow,mulow,'--')\n",
        "plt.xlabel('sigma')\n",
        "plt.ylabel('mu')\n",
        "plt.show"
      ],
      "metadata": {
        "colab": {
          "base_uri": "https://localhost:8080/",
          "height": 296
        },
        "id": "NGzt7wOaxV_x",
        "outputId": "a03b222f-0914-4e87-f261-4fed7122542b"
      },
      "execution_count": 65,
      "outputs": [
        {
          "output_type": "execute_result",
          "data": {
            "text/plain": [
              "<function matplotlib.pyplot.show(*args, **kw)>"
            ]
          },
          "metadata": {},
          "execution_count": 65
        },
        {
          "output_type": "display_data",
          "data": {
            "text/plain": [
              "<Figure size 432x288 with 1 Axes>"
            ],
            "image/png": "[encoded data removed]"
          },
          "metadata": {
            "needs_background": "light"
          }
        }
      ]
    }
  ]
}