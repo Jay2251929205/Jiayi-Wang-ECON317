{
  "nbformat": 4,
  "nbformat_minor": 0,
  "metadata": {
    "colab": {
      "provenance": [],
      "authorship_tag": "ABX9TyNxzvmmbctj2zM5uw/pa3Sx",
      "include_colab_link": true
    },
    "kernelspec": {
      "name": "python3",
      "display_name": "Python 3"
    },
    "language_info": {
      "name": "python"
    }
  },
  "cells": [
    {
      "cell_type": "markdown",
      "metadata": {
        "id": "view-in-github",
        "colab_type": "text"
      },
      "source": [
        "<a href=\"https://colab.research.google.com/github/Jay2251929205/Jiayi-Wang-ECON317/blob/main/HW/ECON317_HW3.ipynb\" target=\"_parent\"><img src=\"https://colab.research.google.com/assets/colab-badge.svg\" alt=\"Open In Colab\"/></a>"
      ]
    },
    {
      "cell_type": "code",
      "execution_count": 7,
      "metadata": {
        "id": "B1VYD6mKpqO2"
      },
      "outputs": [],
      "source": [
        "\n",
        "\n",
        "import numpy as np\n",
        "import pandas as pd\n",
        "from scipy.stats import norm\n",
        "import matplotlib.pyplot as plt\n",
        "from statistics import variance"
      ]
    },
    {
      "cell_type": "markdown",
      "source": [
        "# Problem6"
      ],
      "metadata": {
        "id": "Ngr9PCX6tvMB"
      }
    },
    {
      "cell_type": "code",
      "source": [
        "t=1/252\n",
        "i=0\n",
        "M=0.08*t\n",
        "sigmaM=0.16*np.sqrt(t)\n"
      ],
      "metadata": {
        "id": "Ejj9AnCqLyUv"
      },
      "execution_count": 2,
      "outputs": []
    },
    {
      "cell_type": "code",
      "source": [
        "alpha=np.random.normal(0.08*t, 0.01*t, 100)\n",
        "beta=np.random.uniform(0,2,100)\n",
        "sigmai=np.random.uniform(0.05,0.5,100)\n"
      ],
      "metadata": {
        "id": "2KDI2jgkNqCG"
      },
      "execution_count": 3,
      "outputs": []
    },
    {
      "cell_type": "code",
      "source": [
        "R_M=np.random.normal(M,sigmaM,10000)\n",
        "R_i=[alpha[j]+beta[j]*R_M+np.random.normal(0,sigmai[j],10000) for j in range(100)]"
      ],
      "metadata": {
        "id": "Mx1avRjeODky"
      },
      "execution_count": 6,
      "outputs": []
    },
    {
      "cell_type": "code",
      "source": [
        "omega_hat= (1/9999)*np.dot(R_i, np.transpose(R_i))\n",
        "sigmaM_hat=variance(R_M)\n",
        "ybar=[np.mean(j) for j in R_i]\n",
        "xbar=np.mean(R_M)\n",
        "X=np.sum([(j-xbar)**2 for j in R_M])\n",
        "beta_hat= [np.sum([R_M[k]-xbar * (R_i[j][k]-ybar[j]) for k in range(10000)])/X for j in range(100)]"
      ],
      "metadata": {
        "id": "Dth63HUOO_NZ"
      },
      "execution_count": 22,
      "outputs": []
    },
    {
      "cell_type": "code",
      "source": [
        "omegaS_hat=np.zeros((100,100))\n",
        "for j in range(100):\n",
        "  for k in range(100):\n",
        "    omegaS_hat[j][k]=beta_hat[j]*beta_hat[k]"
      ],
      "metadata": {
        "id": "swjrSCyGQUVo"
      },
      "execution_count": 23,
      "outputs": []
    },
    {
      "cell_type": "code",
      "source": [
        "A = omega_hat-sigmaM_hat*omegaS_hat\n",
        "print(A)\n",
        "plt.spy(A, precision=0.01,markersize=1)\n",
        "plt.show()"
      ],
      "metadata": {
        "colab": {
          "base_uri": "https://localhost:8080/",
          "height": 490
        },
        "id": "mtT_PHblQvuN",
        "outputId": "7b20c6d9-48f0-48da-adab-23979f813c78"
      },
      "execution_count": 26,
      "outputs": [
        {
          "output_type": "stream",
          "name": "stdout",
          "text": [
            "[[ 6.90228904e-02 -1.93683777e-03 -9.68064045e-04 ... -2.12769092e-03\n",
            "  -1.80811765e-03 -2.59213092e-03]\n",
            " [-1.93683777e-03  2.40186716e-01 -2.21958317e-04 ... -2.24121914e-03\n",
            "  -1.55846600e-03 -2.41052114e-03]\n",
            " [-9.68064045e-04 -2.21958317e-04  1.51127343e-01 ... -1.57368822e-03\n",
            "  -2.32509846e-03 -1.97872677e-03]\n",
            " ...\n",
            " [-2.12769092e-03 -2.24121914e-03 -1.57368822e-03 ...  1.28551181e-02\n",
            "  -2.24352218e-03 -2.00962715e-03]\n",
            " [-1.80811765e-03 -1.55846600e-03 -2.32509846e-03 ... -2.24352218e-03\n",
            "   1.19174984e-01 -2.57568187e-03]\n",
            " [-2.59213092e-03 -2.41052114e-03 -1.97872677e-03 ... -2.00962715e-03\n",
            "  -2.57568187e-03  6.06117156e-02]]\n"
          ]
        },
        {
          "output_type": "display_data",
          "data": {
            "text/plain": [
              "<Figure size 432x288 with 1 Axes>"
            ],
            "image/png": "[encoded data removed]"
          },
          "metadata": {
            "needs_background": "light"
          }
        }
      ]
    },
    {
      "cell_type": "markdown",
      "source": [
        "#Problem7\n",
        "\n"
      ],
      "metadata": {
        "id": "7YGh7VHeuCF8"
      }
    },
    {
      "cell_type": "code",
      "source": [
        "s1=np.sqrt((0.16**2)/252)\n",
        "s2=np.sqrt((0.25**2)/252)\n",
        "s3=np.sqrt((0.2**2)/252)\n",
        "omega=[[s1**2,0.1*s1*s2, 0.2*s1*s3], [0.1*s1*s2, s2**2,0.3*s2*s3], [0.2*s1*s3, 0.3*s2*s3, s3**2]]\n"
      ],
      "metadata": {
        "id": "4SYXuRTxL1bL"
      },
      "execution_count": 27,
      "outputs": []
    },
    {
      "cell_type": "code",
      "source": [
        "inv=np.linalg.inv(omega)\n",
        "w=np.dot(inv, np.ones(3))/(np.dot(np.dot(np.ones((1,3)), inv), np.ones(3)))\n",
        "var_T=1/(np.dot(np.dot(np.ones((1,3)),inv),np.ones(3)))"
      ],
      "metadata": {
        "id": "pRylT6UidZ5F"
      },
      "execution_count": 35,
      "outputs": []
    },
    {
      "cell_type": "code",
      "source": [
        "l=np.linalg.cholesky(omega)\n",
        "\n",
        "var=[]\n",
        "for i in range(1000):\n",
        "  s=[np.dot(w, np.dot(l, np.random.normal(0,1,3))) for j in range(1000)]\n",
        "  var.append(variance(s))\n",
        "var.sort()"
      ],
      "metadata": {
        "id": "IMk5idsofoq7"
      },
      "execution_count": 33,
      "outputs": []
    },
    {
      "cell_type": "code",
      "source": [
        "var[24], var[974],var_T[0]"
      ],
      "metadata": {
        "colab": {
          "base_uri": "https://localhost:8080/"
        },
        "id": "kxSTeBuAgfiG",
        "outputId": "af286b49-ffbc-4696-ab1d-be1a432aa119"
      },
      "execution_count": 36,
      "outputs": [
        {
          "output_type": "execute_result",
          "data": {
            "text/plain": [
              "(6.0850339098626134e-05, 7.328843106853267e-05, 6.676041451939487e-05)"
            ]
          },
          "metadata": {},
          "execution_count": 36
        }
      ]
    }
  ]
}