{
  "nbformat": 4,
  "nbformat_minor": 0,
  "metadata": {
    "colab": {
      "provenance": [],
      "authorship_tag": "ABX9TyPFmi1VZX/piKdSkvDWn8vH",
      "include_colab_link": true
    },
    "kernelspec": {
      "name": "python3",
      "display_name": "Python 3"
    },
    "language_info": {
      "name": "python"
    }
  },
  "cells": [
    {
      "cell_type": "markdown",
      "metadata": {
        "id": "view-in-github",
        "colab_type": "text"
      },
      "source": [
        "<a href=\"https://colab.research.google.com/github/Jay2251929205/Jiayi-Wang-ECON317/blob/main/HW/ECON317_HW3.ipynb\" target=\"_parent\"><img src=\"https://colab.research.google.com/assets/colab-badge.svg\" alt=\"Open In Colab\"/></a>"
      ]
    },
    {
      "cell_type": "code",
      "execution_count": 7,
      "metadata": {
        "id": "B1VYD6mKpqO2"
      },
      "outputs": [],
      "source": [
        "\n",
        "\n",
        "import numpy as np\n",
        "import pandas as pd\n",
        "from scipy.stats import norm\n",
        "import matplotlib.pyplot as plt\n",
        "from statistics import variance"
      ]
    },
    {
      "cell_type": "markdown",
      "source": [
        "# Problem6"
      ],
      "metadata": {
        "id": "Ngr9PCX6tvMB"
      }
    },
    {
      "cell_type": "code",
      "source": [
        "t=1/252\n",
        "i=0\n",
        "M=0.08*t\n",
        "sigmaM=0.16*np.sqrt(t)\n"
      ],
      "metadata": {
        "id": "Ejj9AnCqLyUv"
      },
      "execution_count": 2,
      "outputs": []
    },
    {
      "cell_type": "code",
      "source": [
        "alpha=np.random.normal(0.08*t, 0.01*t, 100)\n",
        "beta=np.random.uniform(0,2,100)\n",
        "sigmai=np.random.uniform(0.05,0.5,100)\n"
      ],
      "metadata": {
        "id": "2KDI2jgkNqCG"
      },
      "execution_count": 3,
      "outputs": []
    },
    {
      "cell_type": "code",
      "source": [
        "R_M=np.random.normal(M,sigmaM,10000)\n",
        "R_i=[alpha[j]+beta[j]*R_M+np.random.normal(0,sigmai[j],10000) for j in range(100)]"
      ],
      "metadata": {
        "id": "Mx1avRjeODky"
      },
      "execution_count": 6,
      "outputs": []
    },
    {
      "cell_type": "code",
      "source": [
        "omega_hat= (1/9999)*np.dot(R_i, np.transpose(R_i))\n",
        "sigmaM_hat=variance(R_M)\n",
        "ybar=[np.mean(j) for j in R_i]\n",
        "xbar=np.mean(R_M)\n",
        "X=np.sum([(j-xbar)**2 for j in R_M])\n",
        "beta_hat= [np.sum([R_M[j]-xbar * (R_i[j][k]-ybar[j]) for k in range(10000)])/X for j in range(100)]"
      ],
      "metadata": {
        "id": "Dth63HUOO_NZ"
      },
      "execution_count": 8,
      "outputs": []
    },
    {
      "cell_type": "code",
      "source": [
        "omegaS_hat=np.zeros((100,100))\n",
        "for j in range(100):\n",
        "  for k in range(100):\n",
        "    omegaS_hat[j][k]=beta_hat[j]*beta_hat[k]"
      ],
      "metadata": {
        "id": "swjrSCyGQUVo"
      },
      "execution_count": 9,
      "outputs": []
    },
    {
      "cell_type": "code",
      "source": [
        "A = omega_hat-sigmaM_hat*omegaS_hat\n",
        "plt.spy(A, precision=0.001,markersize=0.1)\n",
        "\n",
        "plt.show()"
      ],
      "metadata": {
        "colab": {
          "base_uri": "https://localhost:8080/",
          "height": 269
        },
        "id": "mtT_PHblQvuN",
        "outputId": "20ff0ec7-c0e1-46ed-9774-551fd7e1fc34"
      },
      "execution_count": 17,
      "outputs": [
        {
          "output_type": "display_data",
          "data": {
            "text/plain": [
              "<Figure size 432x288 with 1 Axes>"
            ],
            "image/png": "[encoded data removed]"
          },
          "metadata": {
            "needs_background": "light"
          }
        }
      ]
    },
    {
      "cell_type": "code",
      "source": [
        "print(A)"
      ],
      "metadata": {
        "colab": {
          "base_uri": "https://localhost:8080/"
        },
        "id": "-khfqxhLR0rE",
        "outputId": "83552388-a042-4c3c-a247-b08ace68226e"
      },
      "execution_count": 18,
      "outputs": [
        {
          "output_type": "stream",
          "name": "stdout",
          "text": [
            "[[-0.74180161 -0.210596    0.24365568 ...  0.25564961 -0.6024069\n",
            "  -0.59234874]\n",
            " [-0.210596    0.187721    0.06488772 ...  0.06628031 -0.15568796\n",
            "  -0.1537277 ]\n",
            " [ 0.24365568  0.06488772  0.08110692 ... -0.07551537  0.17962736\n",
            "   0.17674153]\n",
            " ...\n",
            " [ 0.25564961  0.06628031 -0.07551537 ... -0.06522062  0.18946151\n",
            "   0.1862878 ]\n",
            " [-0.6024069  -0.15568796  0.17962736 ...  0.18946151 -0.3255541\n",
            "  -0.43926595]\n",
            " [-0.59234874 -0.1537277   0.17674153 ...  0.1862878  -0.43926595\n",
            "  -0.36818432]]\n"
          ]
        }
      ]
    },
    {
      "cell_type": "markdown",
      "source": [
        "#Problem7\n",
        "\n"
      ],
      "metadata": {
        "id": "7YGh7VHeuCF8"
      }
    },
    {
      "cell_type": "code",
      "source": [],
      "metadata": {
        "id": "4SYXuRTxL1bL"
      },
      "execution_count": null,
      "outputs": []
    }
  ]
}