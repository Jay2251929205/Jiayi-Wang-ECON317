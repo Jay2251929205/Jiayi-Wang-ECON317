{
 "cells": [
  {
   "cell_type": "code",
   "execution_count": null,
   "metadata": {
    "scrolled": true
   },
   "outputs": [],
   "source": [
    "#Problem2: \n"
   ]
  },
  {
   "cell_type": "code",
   "execution_count": 1,
   "metadata": {},
   "outputs": [],
   "source": [
    "import numpy as np\n",
    "from numpy.random import seed\n",
    "from numpy.random import poisson\n",
    "from scipy import stats\n",
    "from scipy.stats import kstest\n",
    "from scipy.stats import norm\n",
    "import matplotlib.pyplot as plt"
   ]
  },
  {
   "cell_type": "code",
   "execution_count": 6,
   "metadata": {
    "scrolled": true
   },
   "outputs": [
    {
     "name": "stdout",
     "output_type": "stream",
     "text": [
      "1\n",
      "KstestResult(statistic=0.2022906270158331, pvalue=0.8077776061785188)\n",
      "2\n",
      "KstestResult(statistic=0.1151245431467835, pvalue=0.1304854668032689)\n",
      "3\n",
      "KstestResult(statistic=0.029841572580407094, pvalue=0.3303026588413094)\n",
      "4\n",
      "KstestResult(statistic=0.006574107516639005, pvalue=0.7804456211135581)\n",
      "5\n",
      "KstestResult(statistic=0.0025251549095337555, pvalue=0.5465456043848269)\n",
      "6\n",
      "KstestResult(statistic=0.0009878694843535873, pvalue=0.28323066892924853)\n",
      "7\n",
      "KstestResult(statistic=0.00013200219970610494, pvalue=0.9949463687192367)\n",
      "8\n",
      "KstestResult(statistic=5.522162244520068e-05, pvalue=0.9205736407504065)\n"
     ]
    }
   ],
   "source": [
    "\n",
    "seed(0)\n",
    "rng = np.random.default_rng()\n",
    "#perform Kolmogorov-Smirnov test\n",
    "def realNorm(x):\n",
    "    return norm.cdf(x/np.sqrt(2))\n",
    "\n",
    "for i in range (1,9):\n",
    "        print(i)\n",
    "        xi = stats.norm.rvs(size=10**i, random_state=rng)\n",
    "        yi = stats.norm.rvs(size=10**i, random_state=rng)\n",
    "        zi = xi+yi\n",
    "        i=kstest(zi,realNorm)\n",
    "        print(i)"
   ]
  },
  {
   "cell_type": "code",
   "execution_count": 8,
   "metadata": {},
   "outputs": [
    {
     "data": {
      "text/plain": [
       "Text(0, 0.5, 'log(ks)')"
      ]
     },
     "execution_count": 8,
     "metadata": {},
     "output_type": "execute_result"
    },
    {
     "data": {
      "image/png": "[encoded data removed]",
      "text/plain": [
       "<Figure size 432x288 with 1 Axes>"
      ]
     },
     "metadata": {
      "needs_background": "light"
     },
     "output_type": "display_data"
    }
   ],
   "source": [
    "ks = [0.2022906270158331,0.1151245431467835,0.029841572580407094,0.006574107516639005,0.0025251549095337555,0.0009878694843535873,0.00013200219970610494,5.522162244520068e-05]\n",
    "size=[10,100,1000,10000,100000,1000000,10000000,100000000]\n",
    "from sklearn.linear_model import LinearRegression\n",
    "\n",
    "X = np.transpose(np.array([size,ks]))\n",
    "logks = np.log(ks)\n",
    "logsize = np.log(size)\n",
    "reg = LinearRegression().fit(logsize.reshape(8,1),logks.reshape(8,1))\n",
    "x = np.linspace(2,20,80)\n",
    "y = reg.predict(x.reshape(-1,1))\n",
    "plt.scatter(logsize,logks)\n",
    "plt.plot(x, y, '-r', label = 'regression line')\n",
    "plt.xlabel('log(n)')\n",
    "plt.ylabel('log(ks)')\n"
   ]
  },
  {
   "cell_type": "code",
   "execution_count": 11,
   "metadata": {
    "scrolled": true
   },
   "outputs": [],
   "source": [
    "#Problem3: \n",
    "import random\n"
   ]
  },
  {
   "cell_type": "code",
   "execution_count": 18,
   "metadata": {},
   "outputs": [
    {
     "data": {
      "text/plain": [
       "KstestResult(statistic=0.2925071218857632, pvalue=2.7098994179441143e-76)"
      ]
     },
     "execution_count": 18,
     "metadata": {},
     "output_type": "execute_result"
    }
   ],
   "source": [
    "seed(1)\n",
    "rng = np.random.default_rng()\n",
    "def realNorm(x):\n",
    "    return norm.cdf(x/np.sqrt(2))\n",
    "xi = stats.norm.rvs(size=1000, random_state=rng)\n",
    "yi = np.random.random_sample(size = 1000)\n",
    "array=[]\n",
    "for j in range(1,1001):\n",
    "    mean = np.mean(yi[:j])\n",
    "    z = (mean-np.mean(yi))/np.std(yi)*np.sqrt(j)\n",
    "    array.append(z)\n",
    "#print(array)\n",
    "kstest(array, realNorm)\n"
   ]
  },
  {
   "cell_type": "code",
   "execution_count": 19,
   "metadata": {
    "scrolled": true
   },
   "outputs": [
    {
     "data": {
      "text/plain": [
       "KstestResult(statistic=0.34626633473823626, pvalue=0.0)"
      ]
     },
     "execution_count": 19,
     "metadata": {},
     "output_type": "execute_result"
    }
   ],
   "source": [
    "seed(1)\n",
    "def realNorm(x):\n",
    "    return norm.cdf(x/np.sqrt(2))\n",
    "yi = np.random.random_sample(size = 10000)\n",
    "array=[]\n",
    "for j in range(1,10001):\n",
    "    mean = np.mean(yi[:j])\n",
    "    z = (mean-np.mean(yi))/np.std(yi)*np.sqrt(j)\n",
    "    array.append(z)\n",
    "#print(array)\n",
    "kstest(array, realNorm)\n"
   ]
  },
  {
   "cell_type": "code",
   "execution_count": 20,
   "metadata": {
    "scrolled": true
   },
   "outputs": [
    {
     "data": {
      "text/plain": [
       "KstestResult(statistic=0.3473898757637664, pvalue=0.0)"
      ]
     },
     "execution_count": 20,
     "metadata": {},
     "output_type": "execute_result"
    }
   ],
   "source": [
    "seed(1)\n",
    "def realNorm(x):\n",
    "    return norm.cdf(x/np.sqrt(2))\n",
    "yi = np.random.random_sample(size = 40000)\n",
    "array=[]\n",
    "for j in range(1,40001):\n",
    "    mean = np.mean(yi[:j])\n",
    "    z = (mean-np.mean(yi))/np.std(yi)*np.sqrt(j)\n",
    "    array.append(z)\n",
    "#print(array)\n",
    "kstest(array, realNorm)\n"
   ]
  },
  {
   "cell_type": "code",
   "execution_count": 21,
   "metadata": {
    "scrolled": true
   },
   "outputs": [
    {
     "data": {
      "text/plain": [
       "KstestResult(statistic=0.3290173527711587, pvalue=0.0)"
      ]
     },
     "execution_count": 21,
     "metadata": {},
     "output_type": "execute_result"
    }
   ],
   "source": [
    "seed(1)\n",
    "def realNorm(x):\n",
    "    return norm.cdf(x/np.sqrt(2))\n",
    "yi = np.random.random_sample(size = 60000)\n",
    "array=[]\n",
    "for j in range(1,60001):\n",
    "    mean = np.mean(yi[:j])\n",
    "    z = (mean-np.mean(yi))/np.std(yi)*np.sqrt(j)\n",
    "    array.append(z)\n",
    "#print(array)\n",
    "kstest(array, realNorm)\n"
   ]
  },
  {
   "cell_type": "code",
   "execution_count": 22,
   "metadata": {
    "scrolled": true
   },
   "outputs": [
    {
     "data": {
      "text/plain": [
       "KstestResult(statistic=0.3687490077572451, pvalue=0.0)"
      ]
     },
     "execution_count": 22,
     "metadata": {},
     "output_type": "execute_result"
    }
   ],
   "source": [
    "seed(1)\n",
    "def realNorm(x):\n",
    "    return norm.cdf(x/np.sqrt(2))\n",
    "yi = np.random.random_sample(size = 80000)\n",
    "array=[]\n",
    "for j in range(1,80001):\n",
    "    mean = np.mean(yi[:j])\n",
    "    z = (mean-np.mean(yi))/np.std(yi)*np.sqrt(j)\n",
    "    array.append(z)\n",
    "#print(array)\n",
    "kstest(array, realNorm)\n"
   ]
  },
  {
   "cell_type": "code",
   "execution_count": 23,
   "metadata": {},
   "outputs": [
    {
     "data": {
      "text/plain": [
       "KstestResult(statistic=0.3452157207129221, pvalue=0.0)"
      ]
     },
     "execution_count": 23,
     "metadata": {},
     "output_type": "execute_result"
    }
   ],
   "source": [
    "seed(1)\n",
    "def realNorm(x):\n",
    "    return norm.cdf(x/np.sqrt(2))\n",
    "\n",
    "yi = np.random.random_sample(size = 100000)\n",
    "array=[]\n",
    "for j in range(1,100001):\n",
    "    mean = np.mean(yi[:j])\n",
    "    z = (mean-np.mean(yi))/np.std(yi)*np.sqrt(j)\n",
    "    array.append(z)\n",
    "#print(array)\n",
    "kstest(array, realNorm)"
   ]
  },
  {
   "cell_type": "code",
   "execution_count": 24,
   "metadata": {},
   "outputs": [
    {
     "data": {
      "text/plain": [
       "KstestResult(statistic=0.2585877436840246, pvalue=0.0)"
      ]
     },
     "execution_count": 24,
     "metadata": {},
     "output_type": "execute_result"
    }
   ],
   "source": [
    "seed(1)\n",
    "def realNorm(x):\n",
    "    return norm.cdf(x/np.sqrt(2))\n",
    "\n",
    "yi = np.random.random_sample(size = 200000)\n",
    "array=[]\n",
    "for j in range(1,200001):\n",
    "    mean = np.mean(yi[:j])\n",
    "    z = (mean-np.mean(yi))/np.std(yi)*np.sqrt(j)\n",
    "    array.append(z)\n",
    "#print(array)\n",
    "kstest(array, realNorm)"
   ]
  },
  {
   "cell_type": "code",
   "execution_count": 25,
   "metadata": {},
   "outputs": [
    {
     "data": {
      "text/plain": [
       "Text(0, 0.5, 'log(variance)')"
      ]
     },
     "execution_count": 25,
     "metadata": {},
     "output_type": "execute_result"
    },
    {
     "data": {
      "image/png": "[encoded data removed]",
      "text/plain": [
       "<Figure size 432x288 with 1 Axes>"
      ]
     },
     "metadata": {
      "needs_background": "light"
     },
     "output_type": "display_data"
    }
   ],
   "source": [
    "from statistics import variance\n",
    "from scipy.stats import binom\n",
    "\n",
    "p=0.7\n",
    "n = [1000,10000,40000,60000,80000,100000,200000]\n",
    "samples = []\n",
    "var = []\n",
    "for i in n:\n",
    "    samples.append((binom.rvs(i,p,size=100000))/i)\n",
    "    var.append(np.sqrt(variance(samples[-1])))\n",
    "\n",
    "logvar = np.log(var)\n",
    "logn = np.log(n)\n",
    "\n",
    "\n",
    "\n",
    "\n",
    "reg = LinearRegression().fit(logn.reshape(7,1),logvar.reshape(7,1))\n",
    "x = np.linspace(2,20,80)\n",
    "y = reg.predict(x.reshape(-1,1))\n",
    "plt.scatter(logsize,logks)\n",
    "plt.plot(x, y, '-r', label = 'regression line')\n",
    "plt.xlabel('log(n)')\n",
    "plt.ylabel('log(variance)')\n"
   ]
  },
  {
   "cell_type": "code",
   "execution_count": 26,
   "metadata": {
    "scrolled": true
   },
   "outputs": [],
   "source": [
    "import seaborn as sns\n"
   ]
  },
  {
   "cell_type": "code",
   "execution_count": 27,
   "metadata": {},
   "outputs": [
    {
     "data": {
      "text/plain": [
       "array([[-0.50001496]])"
      ]
     },
     "execution_count": 27,
     "metadata": {},
     "output_type": "execute_result"
    }
   ],
   "source": [
    "reg.coef_"
   ]
  },
  {
   "cell_type": "code",
   "execution_count": null,
   "metadata": {},
   "outputs": [],
   "source": [
    "#Problem 4\n",
    "\n"
   ]
  },
  {
   "cell_type": "code",
   "execution_count": 5,
   "metadata": {},
   "outputs": [],
   "source": [
    "import math,pylab"
   ]
  },
  {
   "cell_type": "code",
   "execution_count": 14,
   "metadata": {},
   "outputs": [
    {
     "name": "stdout",
     "output_type": "stream",
     "text": [
      "[ 90400.3601546 129599.6398454]\n",
      "[ 90400.3601546 129599.6398454]\n"
     ]
    }
   ],
   "source": [
    "#normal distribution\n",
    "mean=110000\n",
    "std=10000\n",
    "normalDistribution=stats.norm(mean,std)\n",
    "\n",
    "\n",
    "x50 = np.random.normal(loc=110000, scale=10000, size=50)\n",
    "y50 = normalDistribution.pdf(x50)\n",
    "\n",
    "x5 = np.random.normal(loc=110000, scale=10000, size=5)\n",
    "y5 = normalDistribution.pdf(x5)\n",
    "\n",
    "significanceLevel=0.05\n",
    "n50 = normalDistribution.ppf([0.025,0.975])\n",
    "\n",
    "\n",
    "\n",
    "print(n50)\n",
    "n5 = normalDistribution.ppf([0.025,0.975])\n",
    "print(n5)"
   ]
  },
  {
   "cell_type": "code",
   "execution_count": null,
   "metadata": {},
   "outputs": [],
   "source": []
  },
  {
   "cell_type": "code",
   "execution_count": 15,
   "metadata": {},
   "outputs": [
    {
     "name": "stdout",
     "output_type": "stream",
     "text": [
      "(97583.36001796233, 122416.63998203767)\n",
      "(107158.03144877627, 112841.96855122373)\n"
     ]
    }
   ],
   "source": [
    "# Student's t distribution\n",
    "  \n",
    "from scipy.stats import chi2  \n",
    "from scipy.stats import t  \n",
    "from scipy.stats import f  \n",
    "import math\n",
    "\n",
    "\n",
    "t5 = stats.t.interval(alpha=0.95, df=5-1, loc=110000, scale=10000/np.sqrt(5))\n",
    "t50 = stats.t.interval(alpha=0.95, df=50-1, loc=110000, scale=10000/np.sqrt(50))\n",
    "print(t5)\n",
    "print(t50)"
   ]
  },
  {
   "cell_type": "code",
   "execution_count": 41,
   "metadata": {},
   "outputs": [
    {
     "name": "stdout",
     "output_type": "stream",
     "text": [
      "93.283% is feasible for t-distribution method\n",
      "84.574% is feasible for normal distribution method\n"
     ]
    }
   ],
   "source": [
    "#Monte Carlo Simulation\n",
    "\n",
    "# When n = 5\n",
    "t=0\n",
    "n=0\n",
    "for i in range (100000):\n",
    "    norm = np.random.normal(110000,10000,5)\n",
    "    x = np.mean(norm)\n",
    "    std = np.std(norm)\n",
    "    if 110000<=(std/(5**0.5))*1.96+x and 110000>=-(std/(5**0.5))*1.96+x:\n",
    "        t+=1\n",
    "        n+=1\n",
    "        continue\n",
    "    if 110000<=(std/(5**0.5))*2.776+x and 110000>=-(std/(5**0.5))*2.776+x:  \n",
    "        t+=1\n",
    "        \n",
    "print(str(t/1000)+'% is feasible for t-distribution method')\n",
    "print(str(n/1000)+'% is feasible for normal distribution method')\n",
    "\n",
    "\n",
    "\n"
   ]
  },
  {
   "cell_type": "code",
   "execution_count": 42,
   "metadata": {},
   "outputs": [
    {
     "name": "stdout",
     "output_type": "stream",
     "text": [
      "94.863% is feasible for t-distribution method\n",
      "94.302% is feasible for normal distribution method\n"
     ]
    }
   ],
   "source": [
    "#Monte Carlo Simulation\n",
    "\n",
    "# When n = 50\n",
    "t=0\n",
    "n=0\n",
    "for i in range (100000):\n",
    "    \n",
    "    norm = np.random.normal(110000,10000,50)\n",
    "    mean = np.mean(norm)\n",
    "    std = np.std(norm)\n",
    "    if 110000<=(std/(50**0.5))*1.96+mean and 110000>=-(std/(50**0.5))*1.96+mean:\n",
    "        t+=1\n",
    "        n+=1\n",
    "        continue\n",
    "    if 110000<=(std/(50**0.5))*2.009+mean and 110000>=-(std/(50**0.5))*2.009+mean:  \n",
    "        t+=1\n",
    "        \n",
    "print(str(t/1000)+'% is feasible for t-distribution method')\n",
    "print(str(n/1000)+'% is feasible for normal distribution method')\n",
    "\n",
    "\n",
    "\n"
   ]
  },
  {
   "cell_type": "code",
   "execution_count": null,
   "metadata": {},
   "outputs": [],
   "source": [
    "# Problem 5\n",
    "\n"
   ]
  },
  {
   "cell_type": "code",
   "execution_count": 43,
   "metadata": {},
   "outputs": [
    {
     "name": "stdout",
     "output_type": "stream",
     "text": [
      "95.016% is feasible\n"
     ]
    }
   ],
   "source": [
    "mu=110000\n",
    "sigma=50000\n",
    "count=0\n",
    "for i in range(100000):\n",
    "    norm=np.random.normal(mu,sigma,100)\n",
    "    mean=np.mean(norm)\n",
    "    if mu<=9800+mean and mu>= -9800+mean:\n",
    "        count+=1\n",
    "print(str(count/1000)+'% is feasible')\n"
   ]
  },
  {
   "cell_type": "code",
   "execution_count": null,
   "metadata": {},
   "outputs": [],
   "source": [
    "# Problem 6\n",
    "\n"
   ]
  },
  {
   "cell_type": "code",
   "execution_count": 60,
   "metadata": {},
   "outputs": [
    {
     "name": "stdout",
     "output_type": "stream",
     "text": [
      "5.542% is erronous\n"
     ]
    }
   ],
   "source": [
    "from scipy.stats import t\n",
    "fcount=0\n",
    "\n",
    "\n",
    "for i in range(100000):\n",
    "    t=stats.t.rvs(df=10, size=10)\n",
    "    count=0\n",
    "    for j in t:\n",
    "        if j>0:\n",
    "            count+=1\n",
    "    if count>=8:\n",
    "        fcount+=1\n",
    "print(str(fcount/1000)+'% is erronous')\n"
   ]
  },
  {
   "cell_type": "code",
   "execution_count": null,
   "metadata": {},
   "outputs": [],
   "source": [
    "# Problem 7\n",
    "\n"
   ]
  },
  {
   "cell_type": "code",
   "execution_count": 87,
   "metadata": {},
   "outputs": [
    {
     "data": {
      "text/plain": [
       "(array([ 12.53796808,   5.43299606,   8.72557674,  11.53469987,\n",
       "          5.09647873,   1.15997727, -14.95357819,   6.77457366,\n",
       "         -7.60614984,  -6.52162961,   0.41724017,  23.49037357,\n",
       "         16.24737907,  -2.55474097,   1.8803415 ,  10.80621471,\n",
       "          1.85203466,  13.48446926,  21.00752019,  -1.8610397 ,\n",
       "          2.09660286,  18.00117183,  13.92217433,  21.74759896,\n",
       "         -5.37899519,  13.4642725 , -17.27201172,   4.17773626,\n",
       "          5.96402317,  13.68759436, -11.13642551,   7.4171025 ,\n",
       "         -4.57892376,   0.69391555,   4.84883501,  13.93570372,\n",
       "         10.28895927,  -0.37583968,  14.52711456,  14.30649274,\n",
       "          2.28825946,  -4.56769572,  -2.52552618,  15.58800962,\n",
       "          0.88809834,  11.53374839,  -4.54651398, -12.01808298,\n",
       "         -5.35668007,  -3.59570205,   9.96895505,   9.77598764,\n",
       "          8.51738172,  12.69362679,  -6.14049565,  10.22031747,\n",
       "         34.51977655,   6.67721888,  18.27521102,  10.31339293,\n",
       "         11.45986883,  10.47043509,  12.46431093,  -8.1694758 ,\n",
       "          8.04416695,   4.14094432,  -5.45789112,   5.64363384,\n",
       "         12.35934234,  15.01425877,  12.51745557,  -5.06113309,\n",
       "         -8.11558363,   9.70114989,   1.20205196,   7.70732408,\n",
       "          3.02208852,   5.21870608,  19.08164952,  11.37006794,\n",
       "          1.53670346,   8.84964317,   7.51623313,   4.19682713,\n",
       "         -0.52186318,   9.43342479,   3.03802039,  -9.16035903,\n",
       "         -4.27006374, -16.47892187,   4.51781112,  -2.12388687,\n",
       "          3.82655554,   5.36025622, -11.77617433,  15.3060929 ,\n",
       "          5.44037621,  -7.49286576, -25.63067257,   4.33200092]),\n",
       " 4.583096028127023,\n",
       " 9.777595339946977)"
      ]
     },
     "execution_count": 87,
     "metadata": {},
     "output_type": "execute_result"
    }
   ],
   "source": [
    "sample=[1]\n",
    "while np.mean(sample)<=4:\n",
    "    sample = np.random.normal(0,10,100)\n",
    "sample, np.mean(sample), np.std(sample)\n",
    "\n"
   ]
  },
  {
   "cell_type": "code",
   "execution_count": null,
   "metadata": {},
   "outputs": [],
   "source": []
  },
  {
   "cell_type": "code",
   "execution_count": null,
   "metadata": {},
   "outputs": [],
   "source": []
  }
 ],
 "metadata": {
  "kernelspec": {
   "display_name": "Python 3",
   "language": "python",
   "name": "python3"
  },
  "language_info": {
   "codemirror_mode": {
    "name": "ipython",
    "version": 3
   },
   "file_extension": ".py",
   "mimetype": "text/x-python",
   "name": "python",
   "nbconvert_exporter": "python",
   "pygments_lexer": "ipython3",
   "version": "3.7.6"
  }
 },
 "nbformat": 4,
 "nbformat_minor": 5
}
